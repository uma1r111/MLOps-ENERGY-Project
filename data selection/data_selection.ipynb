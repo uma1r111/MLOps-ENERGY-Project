{
 "cells": [
  {
   "cell_type": "code",
   "execution_count": 1,
   "id": "878830d1",
   "metadata": {},
   "outputs": [],
   "source": [
    "import pandas as pd\n",
    "import numpy as np\n",
    "import matplotlib.pyplot as plt\n",
    "import seaborn as sns\n",
    "import optuna\n",
    "from sklearn.ensemble import RandomForestRegressor\n",
    "from xgboost import XGBRegressor\n",
    "from sklearn.model_selection import train_test_split\n",
    "from sklearn.metrics import mean_squared_error, mean_absolute_error, r2_score\n",
    "import mlflow\n",
    "import mlflow.sklearn\n",
    "import mlflow.xgboost\n",
    "import warnings\n",
    "import os\n",
    "\n",
    "warnings.filterwarnings(\"ignore\")"
   ]
  },
  {
   "cell_type": "code",
   "execution_count": 2,
   "id": "539e8b04",
   "metadata": {},
   "outputs": [],
   "source": [
    "# ========== CONFIGURATION ==========\n",
    "DATA_PATH = \"../data/engineered_features.csv\"\n",
    "TARGET = \"retail_price_£_per_kWh\"\n",
    "MLFLOW_TRACKING_URI = \"http://13.221.17.34:8000/\"\n",
    "EXPERIMENT_NAME = \"UK Energy - Feature Selection\"\n",
    "TEST_SIZE = 0.2\n",
    "RANDOM_STATE = 42\n",
    "OPTUNA_TRIALS = 50"
   ]
  },
  {
   "cell_type": "code",
   "execution_count": 3,
   "id": "83c93f62",
   "metadata": {},
   "outputs": [
    {
     "name": "stdout",
     "output_type": "stream",
     "text": [
      "UK ENERGY PRICE PREDICTION - FEATURE SELECTION\n"
     ]
    },
    {
     "name": "stderr",
     "output_type": "stream",
     "text": [
      "2025/10/28 12:37:21 INFO mlflow.tracking.fluent: Experiment with name 'UK Energy - Feature Selection' does not exist. Creating a new experiment.\n"
     ]
    },
    {
     "name": "stdout",
     "output_type": "stream",
     "text": [
      "\n",
      "MLflow Tracking URI: http://13.221.17.34:8000/\n",
      "Experiment: UK Energy - Feature Selection\n"
     ]
    }
   ],
   "source": [
    "print(\"UK ENERGY PRICE PREDICTION - FEATURE SELECTION\")\n",
    "\n",
    "mlflow.set_tracking_uri(MLFLOW_TRACKING_URI)\n",
    "mlflow.set_experiment(EXPERIMENT_NAME)\n",
    "\n",
    "print(f\"\\nMLflow Tracking URI: {MLFLOW_TRACKING_URI}\")\n",
    "print(f\"Experiment: {EXPERIMENT_NAME}\")"
   ]
  },
  {
   "cell_type": "code",
   "execution_count": 4,
   "id": "80f66d6d",
   "metadata": {},
   "outputs": [
    {
     "name": "stdout",
     "output_type": "stream",
     "text": [
      "\\Loading data...\n",
      "   Loaded data shape: (2059, 104)\n",
      "   Date range: 2025-08-02 05:00:00+00:00 to 2025-10-26 23:00:00+00:00\n"
     ]
    }
   ],
   "source": [
    "print(\"\\Loading data...\")\n",
    "df = pd.read_csv(DATA_PATH)\n",
    "print(f\"   Loaded data shape: {df.shape}\")\n",
    "print(f\"   Date range: {df['datetime'].min()} to {df['datetime'].max()}\")\n"
   ]
  },
  {
   "cell_type": "code",
   "execution_count": 5,
   "id": "eaab5170",
   "metadata": {},
   "outputs": [
    {
     "name": "stdout",
     "output_type": "stream",
     "text": [
      "   Total features: 50\n",
      "   Clean samples: 2059\n",
      "   Target: retail_price_£_per_kWh\n"
     ]
    }
   ],
   "source": [
    "# Exclude non-feature columns\n",
    "excluded_cols = [TARGET, \"datetime\"]\n",
    "\n",
    "# Select only scaled features + temporal features for modeling\n",
    "features = [col for col in df.columns \n",
    "            if col.startswith('scaled_') or \n",
    "            col in ['hour_sin', 'hour_cos', 'month_sin', 'month_cos', \n",
    "                    'is_weekend', 'is_peak_hour', 'is_night', \n",
    "                    'hour', 'day_of_week', 'month']]\n",
    "\n",
    "# Remove rows with NaN (from lag/rolling features)\n",
    "df_clean = df[features + [TARGET]].dropna()\n",
    "\n",
    "X = df_clean[features]\n",
    "y = df_clean[TARGET]\n",
    "\n",
    "print(f\"   Total features: {len(features)}\")\n",
    "print(f\"   Clean samples: {len(X)}\")\n",
    "print(f\"   Target: {TARGET}\")"
   ]
  },
  {
   "cell_type": "code",
   "execution_count": 6,
   "id": "c18072ab",
   "metadata": {},
   "outputs": [
    {
     "name": "stdout",
     "output_type": "stream",
     "text": [
      "\n",
      "Splitting data...\n",
      "   Train: 1647 samples\n",
      "   Test: 412 samples\n"
     ]
    }
   ],
   "source": [
    "print(\"\\nSplitting data...\")\n",
    "X_train, X_test, y_train, y_test = train_test_split(\n",
    "    X, y, test_size=TEST_SIZE, random_state=RANDOM_STATE, shuffle=False  # Time-series: no shuffle\n",
    ")\n",
    "print(f\"   Train: {len(X_train)} samples\")\n",
    "print(f\"   Test: {len(X_test)} samples\")"
   ]
  },
  {
   "cell_type": "code",
   "execution_count": 7,
   "id": "9da13ed0",
   "metadata": {},
   "outputs": [],
   "source": [
    "def calculate_metrics(y_true, y_pred):\n",
    "    \"\"\"Calculate regression metrics.\"\"\"\n",
    "    mse = mean_squared_error(y_true, y_pred)\n",
    "    rmse = np.sqrt(mse)\n",
    "    mae = mean_absolute_error(y_true, y_pred)\n",
    "    r2 = r2_score(y_true, y_pred)\n",
    "    mape = np.mean(np.abs((y_true - y_pred) / y_true)) * 100\n",
    "    return {\n",
    "        \"mse\": mse,\n",
    "        \"rmse\": rmse,\n",
    "        \"mae\": mae,\n",
    "        \"r2\": r2,\n",
    "        \"mape\": mape\n",
    "    }"
   ]
  },
  {
   "cell_type": "code",
   "execution_count": 8,
   "id": "3616f84d",
   "metadata": {},
   "outputs": [],
   "source": [
    "def log_model_to_mlflow(model, model_name, params, metrics, feature_importances):\n",
    "    \"\"\"Log model, params, metrics, and artifacts to MLflow.\"\"\"\n",
    "    with mlflow.start_run(run_name=model_name):\n",
    "        # Log parameters\n",
    "        mlflow.log_params(params)\n",
    "        \n",
    "        # Log metrics\n",
    "        mlflow.log_metrics(metrics)\n",
    "        \n",
    "        # Log model\n",
    "        if \"XGBoost\" in model_name:\n",
    "            mlflow.xgboost.log_model(model, \"model\")\n",
    "        else:\n",
    "            mlflow.sklearn.log_model(model, \"model\")\n",
    "        \n",
    "        # Log feature importances as artifact\n",
    "        importance_df = pd.DataFrame({\n",
    "            'feature': feature_importances.index,\n",
    "            'importance': feature_importances.values\n",
    "        })\n",
    "        importance_path = f\"artifacts/{model_name}_feature_importance.csv\"\n",
    "        os.makedirs(\"artifacts\", exist_ok=True)\n",
    "        importance_df.to_csv(importance_path, index=False)\n",
    "        mlflow.log_artifact(importance_path)\n",
    "        \n",
    "        print(f\"   ✅ Logged {model_name} - RMSE: {metrics['rmse']:.4f}, R²: {metrics['r2']:.4f}\")\n"
   ]
  },
  {
   "cell_type": "code",
   "execution_count": 9,
   "id": "a8a1e6da",
   "metadata": {},
   "outputs": [],
   "source": [
    "def plot_feature_importance(importances, title, filename):\n",
    "    \"\"\"Plot and save feature importance.\"\"\"\n",
    "    plt.figure(figsize=(12, 8))\n",
    "    sns.barplot(x=importances.values, y=importances.index, palette=\"viridis\")\n",
    "    plt.title(title, fontsize=16, fontweight='bold')\n",
    "    plt.xlabel(\"Importance Score\", fontsize=12)\n",
    "    plt.ylabel(\"Feature\", fontsize=12)\n",
    "    plt.tight_layout()\n",
    "    \n",
    "    os.makedirs(\"plots\", exist_ok=True)\n",
    "    plot_path = f\"plots/{filename}\"\n",
    "    plt.savefig(plot_path, dpi=300, bbox_inches='tight')\n",
    "    plt.close()\n",
    "    \n",
    "    return plot_path"
   ]
  },
  {
   "cell_type": "code",
   "execution_count": 10,
   "id": "9f072184",
   "metadata": {},
   "outputs": [
    {
     "name": "stdout",
     "output_type": "stream",
     "text": [
      "\\Training Random Forest with Optuna...\n"
     ]
    }
   ],
   "source": [
    "# ========== RANDOM FOREST - OPTUNA ==========\n",
    "print(\"\\Training Random Forest with Optuna...\")\n",
    "\n",
    "def rf_objective(trial):\n",
    "    \"\"\"Optuna objective for Random Forest.\"\"\"\n",
    "    params = {\n",
    "        \"n_estimators\": trial.suggest_int(\"n_estimators\", 100, 500),\n",
    "        \"max_depth\": trial.suggest_int(\"max_depth\", 5, 30),\n",
    "        \"min_samples_split\": trial.suggest_int(\"min_samples_split\", 2, 20),\n",
    "        \"min_samples_leaf\": trial.suggest_int(\"min_samples_leaf\", 1, 10),\n",
    "        \"max_features\": trial.suggest_categorical(\"max_features\", [\"sqrt\", \"log2\", 0.5]),\n",
    "        \"random_state\": RANDOM_STATE\n",
    "    }\n",
    "    \n",
    "    model = RandomForestRegressor(**params)\n",
    "    model.fit(X_train, y_train)\n",
    "    preds = model.predict(X_test)\n",
    "    mse = mean_squared_error(y_test, preds)\n",
    "    \n",
    "    return mse"
   ]
  },
  {
   "cell_type": "code",
   "execution_count": 11,
   "id": "160335e1",
   "metadata": {},
   "outputs": [
    {
     "name": "stderr",
     "output_type": "stream",
     "text": [
      "[I 2025-10-28 12:38:05,048] A new study created in memory with name: RF_Optimization\n"
     ]
    },
    {
     "data": {
      "application/vnd.jupyter.widget-view+json": {
       "model_id": "94cee8fdf5fd4ecd891a35db9f708c75",
       "version_major": 2,
       "version_minor": 0
      },
      "text/plain": [
       "  0%|          | 0/50 [00:00<?, ?it/s]"
      ]
     },
     "metadata": {},
     "output_type": "display_data"
    },
    {
     "name": "stdout",
     "output_type": "stream",
     "text": [
      "[I 2025-10-28 12:38:07,838] Trial 0 finished with value: 0.0038133357607976043 and parameters: {'n_estimators': 480, 'max_depth': 26, 'min_samples_split': 19, 'min_samples_leaf': 7, 'max_features': 'log2'}. Best is trial 0 with value: 0.0038133357607976043.\n",
      "[I 2025-10-28 12:38:09,933] Trial 1 finished with value: 0.0034065789398443373 and parameters: {'n_estimators': 297, 'max_depth': 10, 'min_samples_split': 7, 'min_samples_leaf': 6, 'max_features': 'sqrt'}. Best is trial 1 with value: 0.0034065789398443373.\n",
      "[I 2025-10-28 12:38:12,023] Trial 2 finished with value: 0.003655726176274721 and parameters: {'n_estimators': 446, 'max_depth': 5, 'min_samples_split': 15, 'min_samples_leaf': 4, 'max_features': 'sqrt'}. Best is trial 1 with value: 0.0034065789398443373.\n",
      "[I 2025-10-28 12:38:13,430] Trial 3 finished with value: 0.003404328265297105 and parameters: {'n_estimators': 187, 'max_depth': 13, 'min_samples_split': 12, 'min_samples_leaf': 5, 'max_features': 'sqrt'}. Best is trial 3 with value: 0.003404328265297105.\n",
      "[I 2025-10-28 12:38:15,755] Trial 4 finished with value: 0.0033737540230088176 and parameters: {'n_estimators': 303, 'max_depth': 25, 'min_samples_split': 2, 'min_samples_leaf': 4, 'max_features': 'sqrt'}. Best is trial 4 with value: 0.0033737540230088176.\n",
      "[I 2025-10-28 12:38:17,236] Trial 5 finished with value: 0.0033885561981286116 and parameters: {'n_estimators': 196, 'max_depth': 25, 'min_samples_split': 19, 'min_samples_leaf': 1, 'max_features': 'sqrt'}. Best is trial 4 with value: 0.0033737540230088176.\n",
      "[I 2025-10-28 12:38:18,454] Trial 6 finished with value: 0.0037182244493602374 and parameters: {'n_estimators': 197, 'max_depth': 28, 'min_samples_split': 15, 'min_samples_leaf': 5, 'max_features': 'log2'}. Best is trial 4 with value: 0.0033737540230088176.\n",
      "[I 2025-10-28 12:38:20,094] Trial 7 finished with value: 0.0036072966394115175 and parameters: {'n_estimators': 260, 'max_depth': 29, 'min_samples_split': 7, 'min_samples_leaf': 2, 'max_features': 'log2'}. Best is trial 4 with value: 0.0033737540230088176.\n",
      "[I 2025-10-28 12:38:21,909] Trial 8 finished with value: 0.002901050710504695 and parameters: {'n_estimators': 153, 'max_depth': 5, 'min_samples_split': 5, 'min_samples_leaf': 1, 'max_features': 0.5}. Best is trial 8 with value: 0.002901050710504695.\n",
      "[I 2025-10-28 12:38:30,442] Trial 9 finished with value: 0.0029337613686942782 and parameters: {'n_estimators': 396, 'max_depth': 20, 'min_samples_split': 16, 'min_samples_leaf': 5, 'max_features': 0.5}. Best is trial 8 with value: 0.002901050710504695.\n",
      "[I 2025-10-28 12:38:31,861] Trial 10 finished with value: 0.0029316526758662877 and parameters: {'n_estimators': 104, 'max_depth': 6, 'min_samples_split': 2, 'min_samples_leaf': 10, 'max_features': 0.5}. Best is trial 8 with value: 0.002901050710504695.\n",
      "[I 2025-10-28 12:38:33,224] Trial 11 finished with value: 0.002959145600885984 and parameters: {'n_estimators': 108, 'max_depth': 5, 'min_samples_split': 2, 'min_samples_leaf': 10, 'max_features': 0.5}. Best is trial 8 with value: 0.002901050710504695.\n",
      "[I 2025-10-28 12:38:35,068] Trial 12 finished with value: 0.002784513379343924 and parameters: {'n_estimators': 105, 'max_depth': 10, 'min_samples_split': 6, 'min_samples_leaf': 10, 'max_features': 0.5}. Best is trial 12 with value: 0.002784513379343924.\n",
      "[I 2025-10-28 12:38:37,770] Trial 13 finished with value: 0.002878726783788414 and parameters: {'n_estimators': 130, 'max_depth': 12, 'min_samples_split': 7, 'min_samples_leaf': 8, 'max_features': 0.5}. Best is trial 12 with value: 0.002784513379343924.\n",
      "[I 2025-10-28 12:38:42,912] Trial 14 finished with value: 0.002897345110252776 and parameters: {'n_estimators': 258, 'max_depth': 14, 'min_samples_split': 10, 'min_samples_leaf': 8, 'max_features': 0.5}. Best is trial 12 with value: 0.002784513379343924.\n",
      "[I 2025-10-28 12:38:45,702] Trial 15 finished with value: 0.0028407908859616666 and parameters: {'n_estimators': 147, 'max_depth': 19, 'min_samples_split': 9, 'min_samples_leaf': 9, 'max_features': 0.5}. Best is trial 12 with value: 0.002784513379343924.\n",
      "[I 2025-10-28 12:38:52,449] Trial 16 finished with value: 0.002896801115464002 and parameters: {'n_estimators': 359, 'max_depth': 19, 'min_samples_split': 10, 'min_samples_leaf': 9, 'max_features': 0.5}. Best is trial 12 with value: 0.002784513379343924.\n",
      "[I 2025-10-28 12:38:55,424] Trial 17 finished with value: 0.0028277199566821595 and parameters: {'n_estimators': 156, 'max_depth': 16, 'min_samples_split': 5, 'min_samples_leaf': 9, 'max_features': 0.5}. Best is trial 12 with value: 0.002784513379343924.\n",
      "[I 2025-10-28 12:38:59,524] Trial 18 finished with value: 0.0028769413173834715 and parameters: {'n_estimators': 226, 'max_depth': 16, 'min_samples_split': 5, 'min_samples_leaf': 10, 'max_features': 0.5}. Best is trial 12 with value: 0.002784513379343924.\n",
      "[I 2025-10-28 12:39:02,451] Trial 19 finished with value: 0.002925321703196084 and parameters: {'n_estimators': 162, 'max_depth': 9, 'min_samples_split': 5, 'min_samples_leaf': 8, 'max_features': 0.5}. Best is trial 12 with value: 0.002784513379343924.\n",
      "[I 2025-10-28 12:39:03,682] Trial 20 finished with value: 0.0038529231393508658 and parameters: {'n_estimators': 237, 'max_depth': 22, 'min_samples_split': 12, 'min_samples_leaf': 7, 'max_features': 'log2'}. Best is trial 12 with value: 0.002784513379343924.\n",
      "[I 2025-10-28 12:39:06,675] Trial 21 finished with value: 0.0028293834749769475 and parameters: {'n_estimators': 148, 'max_depth': 15, 'min_samples_split': 9, 'min_samples_leaf': 9, 'max_features': 0.5}. Best is trial 12 with value: 0.002784513379343924.\n",
      "[I 2025-10-28 12:39:08,553] Trial 22 finished with value: 0.002860882494063643 and parameters: {'n_estimators': 102, 'max_depth': 16, 'min_samples_split': 5, 'min_samples_leaf': 9, 'max_features': 0.5}. Best is trial 12 with value: 0.002784513379343924.\n",
      "[I 2025-10-28 12:39:11,693] Trial 23 finished with value: 0.002862333469787979 and parameters: {'n_estimators': 183, 'max_depth': 9, 'min_samples_split': 8, 'min_samples_leaf': 9, 'max_features': 0.5}. Best is trial 12 with value: 0.002784513379343924.\n",
      "[I 2025-10-28 12:39:14,331] Trial 24 finished with value: 0.002865395172493325 and parameters: {'n_estimators': 133, 'max_depth': 15, 'min_samples_split': 4, 'min_samples_leaf': 7, 'max_features': 0.5}. Best is trial 12 with value: 0.002784513379343924.\n",
      "[I 2025-10-28 12:39:17,248] Trial 25 finished with value: 0.0028657965169055317 and parameters: {'n_estimators': 165, 'max_depth': 11, 'min_samples_split': 12, 'min_samples_leaf': 10, 'max_features': 0.5}. Best is trial 12 with value: 0.002784513379343924.\n",
      "[I 2025-10-28 12:39:20,887] Trial 26 finished with value: 0.00292929890353778 and parameters: {'n_estimators': 217, 'max_depth': 8, 'min_samples_split': 8, 'min_samples_leaf': 8, 'max_features': 0.5}. Best is trial 12 with value: 0.002784513379343924.\n",
      "[I 2025-10-28 12:39:26,594] Trial 27 finished with value: 0.0028869160714093973 and parameters: {'n_estimators': 293, 'max_depth': 18, 'min_samples_split': 4, 'min_samples_leaf': 9, 'max_features': 0.5}. Best is trial 12 with value: 0.002784513379343924.\n",
      "[I 2025-10-28 12:39:27,250] Trial 28 finished with value: 0.003817722069128742 and parameters: {'n_estimators': 129, 'max_depth': 22, 'min_samples_split': 6, 'min_samples_leaf': 10, 'max_features': 'log2'}. Best is trial 12 with value: 0.002784513379343924.\n",
      "[I 2025-10-28 12:39:37,220] Trial 29 finished with value: 0.0029352680218859557 and parameters: {'n_estimators': 488, 'max_depth': 13, 'min_samples_split': 10, 'min_samples_leaf': 7, 'max_features': 0.5}. Best is trial 12 with value: 0.002784513379343924.\n",
      "[I 2025-10-28 12:39:39,057] Trial 30 finished with value: 0.0036759120944115527 and parameters: {'n_estimators': 334, 'max_depth': 17, 'min_samples_split': 3, 'min_samples_leaf': 6, 'max_features': 'log2'}. Best is trial 12 with value: 0.002784513379343924.\n",
      "[I 2025-10-28 12:39:41,982] Trial 31 finished with value: 0.002838612295686594 and parameters: {'n_estimators': 145, 'max_depth': 21, 'min_samples_split': 9, 'min_samples_leaf': 9, 'max_features': 0.5}. Best is trial 12 with value: 0.002784513379343924.\n",
      "[I 2025-10-28 12:39:44,603] Trial 32 finished with value: 0.0028678024507960043 and parameters: {'n_estimators': 129, 'max_depth': 22, 'min_samples_split': 8, 'min_samples_leaf': 8, 'max_features': 0.5}. Best is trial 12 with value: 0.002784513379343924.\n",
      "[I 2025-10-28 12:39:47,855] Trial 33 finished with value: 0.0028314790224966946 and parameters: {'n_estimators': 171, 'max_depth': 21, 'min_samples_split': 6, 'min_samples_leaf': 9, 'max_features': 0.5}. Best is trial 12 with value: 0.002784513379343924.\n",
      "[I 2025-10-28 12:39:48,981] Trial 34 finished with value: 0.003530961453622578 and parameters: {'n_estimators': 178, 'max_depth': 11, 'min_samples_split': 6, 'min_samples_leaf': 10, 'max_features': 'sqrt'}. Best is trial 12 with value: 0.002784513379343924.\n",
      "[I 2025-10-28 12:39:53,551] Trial 35 finished with value: 0.0029227689480219674 and parameters: {'n_estimators': 203, 'max_depth': 24, 'min_samples_split': 7, 'min_samples_leaf': 6, 'max_features': 0.5}. Best is trial 12 with value: 0.002784513379343924.\n",
      "[I 2025-10-28 12:39:57,133] Trial 36 finished with value: 0.003369337868500637 and parameters: {'n_estimators': 448, 'max_depth': 14, 'min_samples_split': 4, 'min_samples_leaf': 3, 'max_features': 'sqrt'}. Best is trial 12 with value: 0.002784513379343924.\n",
      "[I 2025-10-28 12:40:00,589] Trial 37 finished with value: 0.0029296510047356946 and parameters: {'n_estimators': 168, 'max_depth': 17, 'min_samples_split': 6, 'min_samples_leaf': 7, 'max_features': 0.5}. Best is trial 12 with value: 0.002784513379343924.\n",
      "[I 2025-10-28 12:40:01,429] Trial 38 finished with value: 0.0034523703278501496 and parameters: {'n_estimators': 115, 'max_depth': 27, 'min_samples_split': 13, 'min_samples_leaf': 9, 'max_features': 'sqrt'}. Best is trial 12 with value: 0.002784513379343924.\n",
      "[I 2025-10-28 12:40:06,294] Trial 39 finished with value: 0.0028720582260927663 and parameters: {'n_estimators': 253, 'max_depth': 24, 'min_samples_split': 20, 'min_samples_leaf': 8, 'max_features': 0.5}. Best is trial 12 with value: 0.002784513379343924.\n",
      "[I 2025-10-28 12:40:07,352] Trial 40 finished with value: 0.003943740149063127 and parameters: {'n_estimators': 209, 'max_depth': 15, 'min_samples_split': 3, 'min_samples_leaf': 10, 'max_features': 'log2'}. Best is trial 12 with value: 0.002784513379343924.\n",
      "[I 2025-10-28 12:40:10,070] Trial 41 finished with value: 0.002837004753136174 and parameters: {'n_estimators': 143, 'max_depth': 20, 'min_samples_split': 9, 'min_samples_leaf': 9, 'max_features': 0.5}. Best is trial 12 with value: 0.002784513379343924.\n",
      "[I 2025-10-28 12:40:13,542] Trial 42 finished with value: 0.0028336763603357424 and parameters: {'n_estimators': 184, 'max_depth': 20, 'min_samples_split': 9, 'min_samples_leaf': 9, 'max_features': 0.5}. Best is trial 12 with value: 0.002784513379343924.\n",
      "[I 2025-10-28 12:40:16,990] Trial 43 finished with value: 0.002868565490429502 and parameters: {'n_estimators': 188, 'max_depth': 19, 'min_samples_split': 7, 'min_samples_leaf': 10, 'max_features': 0.5}. Best is trial 12 with value: 0.002784513379343924.\n",
      "[I 2025-10-28 12:40:19,364] Trial 44 finished with value: 0.002841349383417047 and parameters: {'n_estimators': 116, 'max_depth': 18, 'min_samples_split': 11, 'min_samples_leaf': 9, 'max_features': 0.5}. Best is trial 12 with value: 0.002784513379343924.\n",
      "[I 2025-10-28 12:40:22,907] Trial 45 finished with value: 0.002874004302896486 and parameters: {'n_estimators': 161, 'max_depth': 23, 'min_samples_split': 6, 'min_samples_leaf': 8, 'max_features': 0.5}. Best is trial 12 with value: 0.002784513379343924.\n",
      "[I 2025-10-28 12:40:24,460] Trial 46 finished with value: 0.0034867325514834294 and parameters: {'n_estimators': 286, 'max_depth': 7, 'min_samples_split': 15, 'min_samples_leaf': 4, 'max_features': 'sqrt'}. Best is trial 12 with value: 0.002784513379343924.\n",
      "[I 2025-10-28 12:40:28,848] Trial 47 finished with value: 0.002877123599624228 and parameters: {'n_estimators': 240, 'max_depth': 13, 'min_samples_split': 8, 'min_samples_leaf': 10, 'max_features': 0.5}. Best is trial 12 with value: 0.002784513379343924.\n",
      "[I 2025-10-28 12:40:32,587] Trial 48 finished with value: 0.0028765660502052064 and parameters: {'n_estimators': 194, 'max_depth': 20, 'min_samples_split': 3, 'min_samples_leaf': 8, 'max_features': 0.5}. Best is trial 12 with value: 0.002784513379343924.\n",
      "[I 2025-10-28 12:40:35,919] Trial 49 finished with value: 0.0028292856258052153 and parameters: {'n_estimators': 174, 'max_depth': 26, 'min_samples_split': 11, 'min_samples_leaf': 9, 'max_features': 0.5}. Best is trial 12 with value: 0.002784513379343924.\n",
      "\n",
      "   🏆 Best RF Parameters:\n",
      "      n_estimators: 105\n",
      "      max_depth: 10\n",
      "      min_samples_split: 6\n",
      "      min_samples_leaf: 10\n",
      "      max_features: 0.5\n",
      "   📉 Best MSE: 0.002785\n"
     ]
    }
   ],
   "source": [
    "rf_study = optuna.create_study(direction=\"minimize\", study_name=\"RF_Optimization\")\n",
    "rf_study.optimize(rf_objective, n_trials=OPTUNA_TRIALS, show_progress_bar=True)\n",
    "\n",
    "print(\"\\n   🏆 Best RF Parameters:\")\n",
    "for key, value in rf_study.best_params.items():\n",
    "    print(f\"      {key}: {value}\")\n",
    "print(f\"   📉 Best MSE: {rf_study.best_value:.6f}\")"
   ]
  },
  {
   "cell_type": "code",
   "execution_count": 12,
   "id": "2958f17a",
   "metadata": {},
   "outputs": [],
   "source": [
    "# Train best RF model\n",
    "best_rf = RandomForestRegressor(**rf_study.best_params, random_state=RANDOM_STATE)\n",
    "best_rf.fit(X_train, y_train)\n",
    "rf_preds = best_rf.predict(X_test)\n",
    "rf_metrics = calculate_metrics(y_test, rf_preds)"
   ]
  },
  {
   "cell_type": "code",
   "execution_count": 13,
   "id": "f2e86527",
   "metadata": {},
   "outputs": [],
   "source": [
    "# Get feature importances\n",
    "rf_importances = pd.Series(\n",
    "    best_rf.feature_importances_, \n",
    "    index=X_train.columns\n",
    ").sort_values(ascending=False)"
   ]
  },
  {
   "cell_type": "code",
   "execution_count": 14,
   "id": "72e62373",
   "metadata": {},
   "outputs": [
    {
     "name": "stderr",
     "output_type": "stream",
     "text": [
      "2025/10/28 12:42:07 WARNING mlflow.models.model: `artifact_path` is deprecated. Please use `name` instead.\n",
      "2025/10/28 12:42:51 WARNING mlflow.models.model: Model logged without a signature and input example. Please set `input_example` parameter when logging the model to auto infer the model signature.\n"
     ]
    },
    {
     "name": "stdout",
     "output_type": "stream",
     "text": [
      "   ✅ Logged RandomForest_Optuna - RMSE: 0.0528, R²: 0.7069\n",
      "🏃 View run RandomForest_Optuna at: http://13.221.17.34:8000/#/experiments/1/runs/936f74e4eedc4ab38033cb33c40aa1c0\n",
      "🧪 View experiment at: http://13.221.17.34:8000/#/experiments/1\n"
     ]
    }
   ],
   "source": [
    "# Log to MLflow\n",
    "log_model_to_mlflow(best_rf, \"RandomForest_Optuna\", rf_study.best_params, rf_metrics, rf_importances[:25])"
   ]
  },
  {
   "cell_type": "code",
   "execution_count": 15,
   "id": "8eeee950",
   "metadata": {},
   "outputs": [],
   "source": [
    "# Plot top 25 features\n",
    "rf_plot_path = plot_feature_importance(\n",
    "    rf_importances[:25], \n",
    "    \"Random Forest - Top 25 Feature Importances\",\n",
    "    \"rf_feature_importance.png\"\n",
    ")"
   ]
  },
  {
   "cell_type": "code",
   "execution_count": 16,
   "id": "9a282990",
   "metadata": {},
   "outputs": [
    {
     "name": "stdout",
     "output_type": "stream",
     "text": [
      "🏃 View run RandomForest_Optuna at: http://13.221.17.34:8000/#/experiments/1/runs/ae55d9df7e8f4017b4f2d030b8a47f57\n",
      "🧪 View experiment at: http://13.221.17.34:8000/#/experiments/1\n",
      "\n",
      "   📊 Random Forest Metrics:\n",
      "      RMSE: 0.0528\n",
      "      MAE: 0.0317\n",
      "      R²: 0.7069\n",
      "      MAPE: inf%\n"
     ]
    }
   ],
   "source": [
    "with mlflow.start_run(run_name=\"RandomForest_Optuna\"):\n",
    "    mlflow.log_artifact(rf_plot_path)\n",
    "\n",
    "print(\"\\n   📊 Random Forest Metrics:\")\n",
    "print(f\"      RMSE: {rf_metrics['rmse']:.4f}\")\n",
    "print(f\"      MAE: {rf_metrics['mae']:.4f}\")\n",
    "print(f\"      R²: {rf_metrics['r2']:.4f}\")\n",
    "print(f\"      MAPE: {rf_metrics['mape']:.2f}%\")"
   ]
  },
  {
   "cell_type": "code",
   "execution_count": 17,
   "id": "b8ac1407",
   "metadata": {},
   "outputs": [
    {
     "name": "stdout",
     "output_type": "stream",
     "text": [
      "Training XGBoost with Optuna...\n"
     ]
    }
   ],
   "source": [
    "# ========== XGBOOST - OPTUNA ==========\n",
    "print(\"Training XGBoost with Optuna...\")\n",
    "\n",
    "def xgb_objective(trial):\n",
    "    \"\"\"Optuna objective for XGBoost.\"\"\"\n",
    "    params = {\n",
    "        \"n_estimators\": trial.suggest_int(\"n_estimators\", 100, 500),\n",
    "        \"max_depth\": trial.suggest_int(\"max_depth\", 3, 15),\n",
    "        \"learning_rate\": trial.suggest_float(\"learning_rate\", 0.01, 0.3, log=True),\n",
    "        \"subsample\": trial.suggest_float(\"subsample\", 0.6, 1.0),\n",
    "        \"colsample_bytree\": trial.suggest_float(\"colsample_bytree\", 0.6, 1.0),\n",
    "        \"gamma\": trial.suggest_float(\"gamma\", 0, 1.0),\n",
    "        \"reg_alpha\": trial.suggest_float(\"reg_alpha\", 0, 2.0),\n",
    "        \"reg_lambda\": trial.suggest_float(\"reg_lambda\", 0, 2.0),\n",
    "        \"random_state\": RANDOM_STATE,\n",
    "        \"tree_method\": \"hist\"\n",
    "    }\n",
    "    \n",
    "    model = XGBRegressor(**params)\n",
    "    model.fit(X_train, y_train, eval_set=[(X_test, y_test)], verbose=False)\n",
    "    preds = model.predict(X_test)\n",
    "    mse = mean_squared_error(y_test, preds)\n",
    "    \n",
    "    return mse"
   ]
  },
  {
   "cell_type": "code",
   "execution_count": 18,
   "id": "3826587a",
   "metadata": {},
   "outputs": [
    {
     "name": "stderr",
     "output_type": "stream",
     "text": [
      "[I 2025-10-28 12:43:25,049] A new study created in memory with name: XGB_Optimization\n"
     ]
    },
    {
     "data": {
      "application/vnd.jupyter.widget-view+json": {
       "model_id": "b3bef887f5c64126a18e0f26f75316e3",
       "version_major": 2,
       "version_minor": 0
      },
      "text/plain": [
       "  0%|          | 0/50 [00:00<?, ?it/s]"
      ]
     },
     "metadata": {},
     "output_type": "display_data"
    },
    {
     "name": "stdout",
     "output_type": "stream",
     "text": [
      "[I 2025-10-28 12:43:25,626] Trial 0 finished with value: 0.004981590168387297 and parameters: {'n_estimators': 362, 'max_depth': 15, 'learning_rate': 0.2670941788368, 'subsample': 0.8992315849382913, 'colsample_bytree': 0.7746349751334731, 'gamma': 0.7732654855637093, 'reg_alpha': 1.5129340640161706, 'reg_lambda': 1.8945117425612599}. Best is trial 0 with value: 0.004981590168387297.\n",
      "[I 2025-10-28 12:43:25,864] Trial 1 finished with value: 0.004382110795073445 and parameters: {'n_estimators': 171, 'max_depth': 14, 'learning_rate': 0.0888424181492604, 'subsample': 0.8757596559273678, 'colsample_bytree': 0.7600312534735136, 'gamma': 0.7488999246881732, 'reg_alpha': 0.4394327948755372, 'reg_lambda': 0.14145196381803804}. Best is trial 1 with value: 0.004382110795073445.\n",
      "[I 2025-10-28 12:43:26,110] Trial 2 finished with value: 0.00516610944848832 and parameters: {'n_estimators': 135, 'max_depth': 10, 'learning_rate': 0.13354178110239368, 'subsample': 0.6035784999753094, 'colsample_bytree': 0.9270613760655838, 'gamma': 0.7366435029685492, 'reg_alpha': 1.9440746428530802, 'reg_lambda': 0.07765540702070739}. Best is trial 1 with value: 0.004382110795073445.\n",
      "[I 2025-10-28 12:43:26,430] Trial 3 finished with value: 0.003545601408801688 and parameters: {'n_estimators': 139, 'max_depth': 5, 'learning_rate': 0.015039610314564812, 'subsample': 0.8011085397930768, 'colsample_bytree': 0.8441158571562253, 'gamma': 0.13223542931201482, 'reg_alpha': 0.22428062984786634, 'reg_lambda': 1.7232458995075202}. Best is trial 3 with value: 0.003545601408801688.\n",
      "[I 2025-10-28 12:43:26,853] Trial 4 finished with value: 0.004324373511947944 and parameters: {'n_estimators': 396, 'max_depth': 10, 'learning_rate': 0.2701694593273527, 'subsample': 0.9344494359838097, 'colsample_bytree': 0.8738551616176846, 'gamma': 0.535186410777111, 'reg_alpha': 1.838606226815425, 'reg_lambda': 0.6488674864251456}. Best is trial 3 with value: 0.003545601408801688.\n",
      "[I 2025-10-28 12:43:27,238] Trial 5 finished with value: 0.003509330911289557 and parameters: {'n_estimators': 349, 'max_depth': 10, 'learning_rate': 0.05260063976626521, 'subsample': 0.6211358531721717, 'colsample_bytree': 0.765950149985005, 'gamma': 0.02919513850882338, 'reg_alpha': 0.7682931279576029, 'reg_lambda': 0.41277894227461975}. Best is trial 5 with value: 0.003509330911289557.\n",
      "[I 2025-10-28 12:43:27,383] Trial 6 finished with value: 0.004160472226584552 and parameters: {'n_estimators': 103, 'max_depth': 11, 'learning_rate': 0.15063995929298504, 'subsample': 0.8763187153388754, 'colsample_bytree': 0.7935861640754156, 'gamma': 0.4582895189595432, 'reg_alpha': 1.9132824615465838, 'reg_lambda': 1.8961676502537397}. Best is trial 5 with value: 0.003509330911289557.\n",
      "[I 2025-10-28 12:43:27,732] Trial 7 finished with value: 0.003337578345764039 and parameters: {'n_estimators': 112, 'max_depth': 15, 'learning_rate': 0.022502011849051425, 'subsample': 0.947242720068618, 'colsample_bytree': 0.6552590633931984, 'gamma': 0.028527072339192938, 'reg_alpha': 0.22713633078447182, 'reg_lambda': 1.8444713738497975}. Best is trial 7 with value: 0.003337578345764039.\n",
      "[I 2025-10-28 12:43:28,035] Trial 8 finished with value: 0.004828863965817271 and parameters: {'n_estimators': 286, 'max_depth': 14, 'learning_rate': 0.14447508466731987, 'subsample': 0.6050817506584627, 'colsample_bytree': 0.7551366784089025, 'gamma': 0.7370160121644698, 'reg_alpha': 0.6296815070874529, 'reg_lambda': 0.9177818389682479}. Best is trial 7 with value: 0.003337578345764039.\n",
      "[I 2025-10-28 12:43:28,322] Trial 9 finished with value: 0.004834628275411635 and parameters: {'n_estimators': 267, 'max_depth': 14, 'learning_rate': 0.09628262459508728, 'subsample': 0.6035234380035513, 'colsample_bytree': 0.9097036891130558, 'gamma': 0.6731719897898888, 'reg_alpha': 0.5476024806917916, 'reg_lambda': 0.9075386018307923}. Best is trial 7 with value: 0.003337578345764039.\n",
      "[I 2025-10-28 12:43:28,811] Trial 10 finished with value: 0.003675799293521987 and parameters: {'n_estimators': 469, 'max_depth': 6, 'learning_rate': 0.018144845265261302, 'subsample': 0.7362066452267475, 'colsample_bytree': 0.6205858248910235, 'gamma': 0.26113297057272816, 'reg_alpha': 0.06590861432941308, 'reg_lambda': 1.4055182088918703}. Best is trial 7 with value: 0.003337578345764039.\n",
      "[I 2025-10-28 12:43:29,221] Trial 11 finished with value: 0.0035995347115909135 and parameters: {'n_estimators': 220, 'max_depth': 7, 'learning_rate': 0.03749736275767715, 'subsample': 0.9828210261611692, 'colsample_bytree': 0.6544041898364914, 'gamma': 0.006080497771740245, 'reg_alpha': 1.0437427419405683, 'reg_lambda': 0.4552811873835977}. Best is trial 7 with value: 0.003337578345764039.\n",
      "[I 2025-10-28 12:43:29,715] Trial 12 finished with value: 0.005148733221424098 and parameters: {'n_estimators': 381, 'max_depth': 12, 'learning_rate': 0.03133533247730142, 'subsample': 0.7106278629682714, 'colsample_bytree': 0.6836171406608592, 'gamma': 0.9775905470787548, 'reg_alpha': 0.9179709300984111, 'reg_lambda': 1.2883060479018478}. Best is trial 7 with value: 0.003337578345764039.\n",
      "[I 2025-10-28 12:43:30,095] Trial 13 finished with value: 0.003788614381382312 and parameters: {'n_estimators': 344, 'max_depth': 8, 'learning_rate': 0.026658430062666688, 'subsample': 0.7828343134736395, 'colsample_bytree': 0.7050428100053054, 'gamma': 0.2610644878983248, 'reg_alpha': 0.9767152203364691, 'reg_lambda': 0.5423370055085606}. Best is trial 7 with value: 0.003337578345764039.\n",
      "[I 2025-10-28 12:43:30,595] Trial 14 finished with value: 0.003628024769596314 and parameters: {'n_estimators': 466, 'max_depth': 4, 'learning_rate': 0.054525838405517904, 'subsample': 0.6702872739543555, 'colsample_bytree': 0.7003804321346363, 'gamma': 0.017546164271655354, 'reg_alpha': 1.2473144247673749, 'reg_lambda': 1.3312112376393113}. Best is trial 7 with value: 0.003337578345764039.\n",
      "[I 2025-10-28 12:43:30,862] Trial 15 finished with value: 0.0035210203526826814 and parameters: {'n_estimators': 226, 'max_depth': 12, 'learning_rate': 0.05219903518274164, 'subsample': 0.9986365676440654, 'colsample_bytree': 0.6083689351061181, 'gamma': 0.2194376426425131, 'reg_alpha': 0.29646897623401025, 'reg_lambda': 1.579566440035947}. Best is trial 7 with value: 0.003337578345764039.\n",
      "[I 2025-10-28 12:43:31,274] Trial 16 finished with value: 0.00402061151066811 and parameters: {'n_estimators': 326, 'max_depth': 3, 'learning_rate': 0.010019786848296857, 'subsample': 0.8284187663934882, 'colsample_bytree': 0.9706452593390602, 'gamma': 0.39114498087657307, 'reg_alpha': 0.7162135852608256, 'reg_lambda': 1.0913160206168138}. Best is trial 7 with value: 0.003337578345764039.\n",
      "[I 2025-10-28 12:43:31,801] Trial 17 finished with value: 0.0034163078711220538 and parameters: {'n_estimators': 424, 'max_depth': 9, 'learning_rate': 0.020163264340318735, 'subsample': 0.696223298871867, 'colsample_bytree': 0.7282574566847576, 'gamma': 0.12346256221485152, 'reg_alpha': 0.028309393678135092, 'reg_lambda': 0.3143496346684638}. Best is trial 7 with value: 0.003337578345764039.\n",
      "[I 2025-10-28 12:43:32,404] Trial 18 finished with value: 0.0034474078106994663 and parameters: {'n_estimators': 429, 'max_depth': 8, 'learning_rate': 0.02035583396815563, 'subsample': 0.7377644442462377, 'colsample_bytree': 0.7223326076941226, 'gamma': 0.14981880166037226, 'reg_alpha': 0.09721054845307137, 'reg_lambda': 0.7105018057274153}. Best is trial 7 with value: 0.003337578345764039.\n",
      "[I 2025-10-28 12:43:32,718] Trial 19 finished with value: 0.0039386555639187555 and parameters: {'n_estimators': 214, 'max_depth': 12, 'learning_rate': 0.010428471109155218, 'subsample': 0.6798095966503686, 'colsample_bytree': 0.6502669490341245, 'gamma': 0.3274189625692178, 'reg_alpha': 0.0022957246330133872, 'reg_lambda': 0.2971581457021769}. Best is trial 7 with value: 0.003337578345764039.\n",
      "[I 2025-10-28 12:43:33,223] Trial 20 finished with value: 0.003374126536657612 and parameters: {'n_estimators': 428, 'max_depth': 9, 'learning_rate': 0.01437382669881502, 'subsample': 0.9511506653840338, 'colsample_bytree': 0.8186169938014749, 'gamma': 0.12693043939062854, 'reg_alpha': 0.318873395414909, 'reg_lambda': 1.1124015822869644}. Best is trial 7 with value: 0.003337578345764039.\n",
      "[I 2025-10-28 12:43:33,992] Trial 21 finished with value: 0.0033756413284718742 and parameters: {'n_estimators': 495, 'max_depth': 8, 'learning_rate': 0.014346532888607393, 'subsample': 0.9592577310192855, 'colsample_bytree': 0.8270240757032771, 'gamma': 0.12283815955623248, 'reg_alpha': 0.3735697208461426, 'reg_lambda': 1.5607605268702316}. Best is trial 7 with value: 0.003337578345764039.\n",
      "[I 2025-10-28 12:43:34,657] Trial 22 finished with value: 0.0033977154943132023 and parameters: {'n_estimators': 500, 'max_depth': 7, 'learning_rate': 0.01370401433156195, 'subsample': 0.9509028800677867, 'colsample_bytree': 0.8286233808299043, 'gamma': 0.10767141431357044, 'reg_alpha': 0.40218512861199973, 'reg_lambda': 1.6155312271345026}. Best is trial 7 with value: 0.003337578345764039.\n",
      "[I 2025-10-28 12:43:35,203] Trial 23 finished with value: 0.003527544134298446 and parameters: {'n_estimators': 499, 'max_depth': 8, 'learning_rate': 0.02602966984610017, 'subsample': 0.9380204568912035, 'colsample_bytree': 0.8254616303544574, 'gamma': 0.20845290455258306, 'reg_alpha': 0.2852091719371739, 'reg_lambda': 1.9942554953443603}. Best is trial 7 with value: 0.003337578345764039.\n",
      "[I 2025-10-28 12:43:35,728] Trial 24 finished with value: 0.0037454550633655086 and parameters: {'n_estimators': 448, 'max_depth': 6, 'learning_rate': 0.013592659703756102, 'subsample': 0.9676592061463792, 'colsample_bytree': 0.8687751032149851, 'gamma': 0.31921980290525925, 'reg_alpha': 0.4715276429593376, 'reg_lambda': 1.1284553370282626}. Best is trial 7 with value: 0.003337578345764039.\n",
      "[I 2025-10-28 12:43:36,312] Trial 25 finished with value: 0.003291836452182199 and parameters: {'n_estimators': 416, 'max_depth': 9, 'learning_rate': 0.039737339207766585, 'subsample': 0.9078840896719591, 'colsample_bytree': 0.8034729272419064, 'gamma': 0.07345786184738026, 'reg_alpha': 0.26048260961388536, 'reg_lambda': 1.500393824497763}. Best is trial 25 with value: 0.003291836452182199.\n",
      "[I 2025-10-28 12:43:36,948] Trial 26 finished with value: 0.0031914261265104413 and parameters: {'n_estimators': 407, 'max_depth': 11, 'learning_rate': 0.03918576880897107, 'subsample': 0.9101215497744655, 'colsample_bytree': 0.7990163832548698, 'gamma': 0.05537419449915988, 'reg_alpha': 0.19128654166674575, 'reg_lambda': 1.7267342095109164}. Best is trial 26 with value: 0.0031914261265104413.\n",
      "[I 2025-10-28 12:43:37,510] Trial 27 finished with value: 0.0032103668381836853 and parameters: {'n_estimators': 401, 'max_depth': 15, 'learning_rate': 0.03596631982368828, 'subsample': 0.9112675256589482, 'colsample_bytree': 0.9895305913477658, 'gamma': 0.06515029635292341, 'reg_alpha': 0.21091479985114325, 'reg_lambda': 1.7738362826861969}. Best is trial 26 with value: 0.0031914261265104413.\n",
      "[I 2025-10-28 12:43:38,014] Trial 28 finished with value: 0.0040622094258855245 and parameters: {'n_estimators': 393, 'max_depth': 13, 'learning_rate': 0.03774459117958518, 'subsample': 0.9060338032740978, 'colsample_bytree': 0.9816840772526875, 'gamma': 0.5288159920019188, 'reg_alpha': 0.1433851064561505, 'reg_lambda': 1.6965629637285833}. Best is trial 26 with value: 0.0031914261265104413.\n",
      "[I 2025-10-28 12:43:38,369] Trial 29 finished with value: 0.0045501297909148536 and parameters: {'n_estimators': 317, 'max_depth': 15, 'learning_rate': 0.041106971236380505, 'subsample': 0.8420790781325944, 'colsample_bytree': 0.9212255206980429, 'gamma': 0.5990898739397343, 'reg_alpha': 1.5757632726904056, 'reg_lambda': 1.4424730741099734}. Best is trial 26 with value: 0.0031914261265104413.\n",
      "[I 2025-10-28 12:43:38,757] Trial 30 finished with value: 0.004841773672607394 and parameters: {'n_estimators': 374, 'max_depth': 11, 'learning_rate': 0.0760740783630585, 'subsample': 0.8967148041203311, 'colsample_bytree': 0.952930766723532, 'gamma': 0.9214617602028361, 'reg_alpha': 1.1935276604788936, 'reg_lambda': 1.943263037416039}. Best is trial 26 with value: 0.0031914261265104413.\n",
      "[I 2025-10-28 12:43:39,272] Trial 31 finished with value: 0.00319834078510366 and parameters: {'n_estimators': 400, 'max_depth': 15, 'learning_rate': 0.026903729594461044, 'subsample': 0.906168526673239, 'colsample_bytree': 0.997217573619051, 'gamma': 0.06024462944407535, 'reg_alpha': 0.19548185566704143, 'reg_lambda': 1.803096529499054}. Best is trial 26 with value: 0.0031914261265104413.\n",
      "[I 2025-10-28 12:43:39,763] Trial 32 finished with value: 0.0033408533466763074 and parameters: {'n_estimators': 409, 'max_depth': 13, 'learning_rate': 0.06943282215573461, 'subsample': 0.9110694509697644, 'colsample_bytree': 0.9973228534081272, 'gamma': 0.07025248181977384, 'reg_alpha': 0.5406442604078379, 'reg_lambda': 1.7853388017015184}. Best is trial 26 with value: 0.0031914261265104413.\n",
      "[I 2025-10-28 12:43:40,151] Trial 33 finished with value: 0.0035070185269984403 and parameters: {'n_estimators': 362, 'max_depth': 15, 'learning_rate': 0.044150107018478116, 'subsample': 0.8639897894470515, 'colsample_bytree': 0.8950022376143858, 'gamma': 0.19080320125463152, 'reg_alpha': 0.1548184831188083, 'reg_lambda': 1.5492286163872802}. Best is trial 26 with value: 0.0031914261265104413.\n",
      "[I 2025-10-28 12:43:40,686] Trial 34 finished with value: 0.0032492309886417363 and parameters: {'n_estimators': 456, 'max_depth': 13, 'learning_rate': 0.029842294896560942, 'subsample': 0.8536289931677901, 'colsample_bytree': 0.943886316380507, 'gamma': 0.06820422057989343, 'reg_alpha': 0.19753991456205564, 'reg_lambda': 1.7270946361391277}. Best is trial 26 with value: 0.0031914261265104413.\n",
      "[I 2025-10-28 12:43:41,166] Trial 35 finished with value: 0.0035071237203280485 and parameters: {'n_estimators': 440, 'max_depth': 13, 'learning_rate': 0.030614504586944875, 'subsample': 0.8440589100980089, 'colsample_bytree': 0.9497003874329856, 'gamma': 0.18391125290651678, 'reg_alpha': 0.41167373841256805, 'reg_lambda': 1.7150300665918672}. Best is trial 26 with value: 0.0031914261265104413.\n",
      "[I 2025-10-28 12:43:41,902] Trial 36 finished with value: 0.003406627097258566 and parameters: {'n_estimators': 460, 'max_depth': 14, 'learning_rate': 0.030605752635602834, 'subsample': 0.8774344645819121, 'colsample_bytree': 0.9983682092062511, 'gamma': 0.07618587053567952, 'reg_alpha': 0.8132632454854702, 'reg_lambda': 1.8352837064947756}. Best is trial 26 with value: 0.0031914261265104413.\n",
      "[I 2025-10-28 12:43:42,458] Trial 37 finished with value: 0.0035984323130596185 and parameters: {'n_estimators': 390, 'max_depth': 14, 'learning_rate': 0.06591202673366472, 'subsample': 0.8044687314082513, 'colsample_bytree': 0.9462374490835821, 'gamma': 0.2865533163831956, 'reg_alpha': 0.1852112805897187, 'reg_lambda': 1.6704724576995242}. Best is trial 26 with value: 0.0031914261265104413.\n",
      "[I 2025-10-28 12:43:42,944] Trial 38 finished with value: 0.003893013009883138 and parameters: {'n_estimators': 406, 'max_depth': 11, 'learning_rate': 0.02559345267304563, 'subsample': 0.9276515637153501, 'colsample_bytree': 0.8591755330901356, 'gamma': 0.38685420621384364, 'reg_alpha': 0.5696163699189716, 'reg_lambda': 1.7704534869295916}. Best is trial 26 with value: 0.0031914261265104413.\n",
      "[I 2025-10-28 12:43:43,305] Trial 39 finished with value: 0.0035472823641551515 and parameters: {'n_estimators': 357, 'max_depth': 15, 'learning_rate': 0.11260118296237107, 'subsample': 0.8857137919583307, 'colsample_bytree': 0.8900477480810939, 'gamma': 0.04568537433686183, 'reg_alpha': 1.687470778035837, 'reg_lambda': 1.2767609911216422}. Best is trial 26 with value: 0.0031914261265104413.\n",
      "[I 2025-10-28 12:43:44,050] Trial 40 finished with value: 0.0036757268242028815 and parameters: {'n_estimators': 481, 'max_depth': 13, 'learning_rate': 0.1957797126902126, 'subsample': 0.8599059318834119, 'colsample_bytree': 0.9344488349705671, 'gamma': 0.1836988349681427, 'reg_alpha': 0.6572455983020139, 'reg_lambda': 1.9102865003457816}. Best is trial 26 with value: 0.0031914261265104413.\n",
      "[I 2025-10-28 12:43:44,522] Trial 41 finished with value: 0.003485542802021986 and parameters: {'n_estimators': 412, 'max_depth': 10, 'learning_rate': 0.04606500613408232, 'subsample': 0.9206045587342402, 'colsample_bytree': 0.7891354078672157, 'gamma': 0.07601171698534795, 'reg_alpha': 0.22147177732109377, 'reg_lambda': 1.5064204351627632}. Best is trial 26 with value: 0.0031914261265104413.\n",
      "[I 2025-10-28 12:43:45,121] Trial 42 finished with value: 0.0031173430141394295 and parameters: {'n_estimators': 448, 'max_depth': 11, 'learning_rate': 0.03369964417908852, 'subsample': 0.8894282972818797, 'colsample_bytree': 0.9665766918909314, 'gamma': 0.011238224812658279, 'reg_alpha': 0.2657883464143864, 'reg_lambda': 1.8396363840432126}. Best is trial 42 with value: 0.0031173430141394295.\n",
      "[I 2025-10-28 12:43:45,643] Trial 43 finished with value: 0.0032329049591774102 and parameters: {'n_estimators': 449, 'max_depth': 11, 'learning_rate': 0.03496433899976886, 'subsample': 0.8166927967990363, 'colsample_bytree': 0.9740283823220643, 'gamma': 0.03092623155811807, 'reg_alpha': 0.47414374843173623, 'reg_lambda': 1.8564507522647953}. Best is trial 42 with value: 0.0031173430141394295.\n",
      "[I 2025-10-28 12:43:46,241] Trial 44 finished with value: 0.0032338664366109017 and parameters: {'n_estimators': 438, 'max_depth': 11, 'learning_rate': 0.03492887030683872, 'subsample': 0.8260291441852012, 'colsample_bytree': 0.9719758468032476, 'gamma': 0.008278924371989137, 'reg_alpha': 0.4822599360282745, 'reg_lambda': 1.9972413656534398}. Best is trial 42 with value: 0.0031173430141394295.\n",
      "[I 2025-10-28 12:43:46,709] Trial 45 finished with value: 0.003351298472997346 and parameters: {'n_estimators': 478, 'max_depth': 10, 'learning_rate': 0.06151254620523223, 'subsample': 0.7840526301855237, 'colsample_bytree': 0.9780610568993211, 'gamma': 0.15319070751997377, 'reg_alpha': 0.3564890434621354, 'reg_lambda': 1.859329307140605}. Best is trial 42 with value: 0.0031173430141394295.\n",
      "[I 2025-10-28 12:43:49,460] Trial 46 finished with value: 0.0031149523354367225 and parameters: {'n_estimators': 342, 'max_depth': 12, 'learning_rate': 0.017525988456637265, 'subsample': 0.888373676915991, 'colsample_bytree': 0.9104400899513132, 'gamma': 0.00021615471826942623, 'reg_alpha': 0.07387217904714352, 'reg_lambda': 1.8440833350392498}. Best is trial 46 with value: 0.0031149523354367225.\n",
      "[I 2025-10-28 12:43:50,395] Trial 47 finished with value: 0.0030503528634404104 and parameters: {'n_estimators': 289, 'max_depth': 12, 'learning_rate': 0.017792468421787402, 'subsample': 0.8881103217849514, 'colsample_bytree': 0.9186454246321387, 'gamma': 0.005340416789617261, 'reg_alpha': 0.0649109087681003, 'reg_lambda': 1.629862783139278}. Best is trial 47 with value: 0.0030503528634404104.\n",
      "[I 2025-10-28 12:43:51,271] Trial 48 finished with value: 0.0031216328141499524 and parameters: {'n_estimators': 276, 'max_depth': 12, 'learning_rate': 0.017725272366714256, 'subsample': 0.8762580210718249, 'colsample_bytree': 0.912674325394858, 'gamma': 0.004293113112019797, 'reg_alpha': 0.1033548289687214, 'reg_lambda': 1.4088621852911432}. Best is trial 47 with value: 0.0030503528634404104.\n",
      "[I 2025-10-28 12:43:51,687] Trial 49 finished with value: 0.003572203675034338 and parameters: {'n_estimators': 269, 'max_depth': 12, 'learning_rate': 0.017014571545226415, 'subsample': 0.8888672820730878, 'colsample_bytree': 0.9076700868668706, 'gamma': 0.24239154318404516, 'reg_alpha': 0.08892335543702992, 'reg_lambda': 1.3785256651565576}. Best is trial 47 with value: 0.0030503528634404104.\n",
      "\n",
      "   🏆 Best XGBoost Parameters:\n",
      "      n_estimators: 289\n",
      "      max_depth: 12\n",
      "      learning_rate: 0.017792468421787402\n",
      "      subsample: 0.8881103217849514\n",
      "      colsample_bytree: 0.9186454246321387\n",
      "      gamma: 0.005340416789617261\n",
      "      reg_alpha: 0.0649109087681003\n",
      "      reg_lambda: 1.629862783139278\n",
      "   📉 Best MSE: 0.003050\n"
     ]
    }
   ],
   "source": [
    "xgb_study = optuna.create_study(direction=\"minimize\", study_name=\"XGB_Optimization\")\n",
    "xgb_study.optimize(xgb_objective, n_trials=OPTUNA_TRIALS, show_progress_bar=True)\n",
    "\n",
    "print(\"\\n   🏆 Best XGBoost Parameters:\")\n",
    "for key, value in xgb_study.best_params.items():\n",
    "    print(f\"      {key}: {value}\")\n",
    "print(f\"   📉 Best MSE: {xgb_study.best_value:.6f}\")"
   ]
  },
  {
   "cell_type": "code",
   "execution_count": 19,
   "id": "3b61652a",
   "metadata": {},
   "outputs": [],
   "source": [
    "best_xgb = XGBRegressor(**xgb_study.best_params, random_state=RANDOM_STATE, tree_method=\"hist\")\n",
    "best_xgb.fit(X_train, y_train, eval_set=[(X_test, y_test)], verbose=False)\n",
    "xgb_preds = best_xgb.predict(X_test)\n",
    "xgb_metrics = calculate_metrics(y_test, xgb_preds)"
   ]
  },
  {
   "cell_type": "code",
   "execution_count": 20,
   "id": "c15259a5",
   "metadata": {},
   "outputs": [],
   "source": [
    "xgb_importances = pd.Series(\n",
    "    best_xgb.feature_importances_, \n",
    "    index=X_train.columns\n",
    ").sort_values(ascending=False)"
   ]
  },
  {
   "cell_type": "code",
   "execution_count": 21,
   "id": "07ee52f5",
   "metadata": {},
   "outputs": [
    {
     "name": "stderr",
     "output_type": "stream",
     "text": [
      "2025/10/28 12:44:16 WARNING mlflow.models.model: `artifact_path` is deprecated. Please use `name` instead.\n",
      "2025/10/28 12:44:35 WARNING mlflow.models.model: Model logged without a signature and input example. Please set `input_example` parameter when logging the model to auto infer the model signature.\n"
     ]
    },
    {
     "name": "stdout",
     "output_type": "stream",
     "text": [
      "   ✅ Logged XGBoost_Optuna - RMSE: 0.0552, R²: 0.6789\n",
      "🏃 View run XGBoost_Optuna at: http://13.221.17.34:8000/#/experiments/1/runs/ad008a6ed4c74b40b467311cac984c5b\n",
      "🧪 View experiment at: http://13.221.17.34:8000/#/experiments/1\n"
     ]
    }
   ],
   "source": [
    "# Log to MLflow\n",
    "log_model_to_mlflow(best_xgb, \"XGBoost_Optuna\", xgb_study.best_params, xgb_metrics, xgb_importances[:25])"
   ]
  },
  {
   "cell_type": "code",
   "execution_count": 22,
   "id": "5e87e708",
   "metadata": {},
   "outputs": [],
   "source": [
    "# Plot top 25 features\n",
    "xgb_plot_path = plot_feature_importance(\n",
    "    xgb_importances[:25], \n",
    "    \"XGBoost - Top 25 Feature Importances\",\n",
    "    \"xgb_feature_importance.png\"\n",
    ")"
   ]
  },
  {
   "cell_type": "code",
   "execution_count": 23,
   "id": "2ed8507d",
   "metadata": {},
   "outputs": [
    {
     "name": "stdout",
     "output_type": "stream",
     "text": [
      "🏃 View run XGBoost_Optuna at: http://13.221.17.34:8000/#/experiments/1/runs/46f315c3533249b9a771c9d6792626c9\n",
      "🧪 View experiment at: http://13.221.17.34:8000/#/experiments/1\n",
      "\n",
      "   📊 XGBoost Metrics:\n",
      "      RMSE: 0.0552\n",
      "      MAE: 0.0328\n",
      "      R²: 0.6789\n",
      "      MAPE: inf%\n"
     ]
    }
   ],
   "source": [
    "with mlflow.start_run(run_name=\"XGBoost_Optuna\"):\n",
    "    mlflow.log_artifact(xgb_plot_path)\n",
    "\n",
    "print(\"\\n   📊 XGBoost Metrics:\")\n",
    "print(f\"      RMSE: {xgb_metrics['rmse']:.4f}\")\n",
    "print(f\"      MAE: {xgb_metrics['mae']:.4f}\")\n",
    "print(f\"      R²: {xgb_metrics['r2']:.4f}\")\n",
    "print(f\"      MAPE: {xgb_metrics['mape']:.2f}%\")"
   ]
  },
  {
   "cell_type": "code",
   "execution_count": 24,
   "id": "98e7d14e",
   "metadata": {},
   "outputs": [
    {
     "name": "stdout",
     "output_type": "stream",
     "text": [
      "\n",
      "============================================================\n",
      "📊 TOP 25 FEATURES BY MODEL\n",
      "============================================================\n",
      "\n",
      "                         Feature  RF_Importance  XGB_Importance  Avg_Importance\n",
      "             scaled_price_lag_1h       0.451231        0.247177        0.349204\n",
      "            scaled_price_lag_24h       0.220397        0.209974        0.215185\n",
      "            scaled_renewable_pct       0.103522        0.109703        0.106613\n",
      "                        hour_sin       0.053399        0.050366        0.051882\n",
      "                            hour       0.026983        0.042721        0.034852\n",
      "         scaled_uk_gen_biomass_%       0.027005        0.024069        0.025537\n",
      "         scaled_carbon_per_price       0.030752        0.012993        0.021872\n",
      "  scaled_carbon_intensity_actual       0.023332        0.013894        0.018613\n",
      "            scaled_carbon_lag_1h       0.001711        0.028679        0.015195\n",
      "                        hour_cos       0.014302        0.015590        0.014946\n",
      "             scaled_wind_lag_24h       0.000877        0.025561        0.013219\n",
      "               scaled_fossil_pct       0.008384        0.011680        0.010032\n",
      "  scaled_log_solar_radiation_Wm2       0.001702        0.017260        0.009481\n",
      "              scaled_wind_lag_1h       0.002122        0.016333        0.009228\n",
      "             scaled_uk_gen_gas_%       0.007559        0.009998        0.008778\n",
      "                    is_peak_hour       0.000679        0.016536        0.008607\n",
      "                  scaled_log_no2       0.002160        0.013501        0.007831\n",
      "         scaled_uk_gen_nuclear_%       0.001055        0.013150        0.007103\n",
      "            scaled_uk_gen_wind_%       0.003604        0.010559        0.007082\n",
      "scaled_carbon_intensity_forecast       0.006288        0.005274        0.005781\n",
      "   scaled_price_rolling_24h_mean       0.000909        0.009503        0.005206\n",
      "         scaled_uk_gen_imports_%       0.002330        0.007012        0.004671\n",
      "       scaled_log_uk_gen_solar_%       0.002182        0.005919        0.004051\n",
      "    scaled_price_rolling_24h_std       0.000882        0.006708        0.003795\n",
      "           scaled_carbon_lag_24h       0.000608        0.005349        0.002979\n"
     ]
    }
   ],
   "source": [
    "# ========== COMPARISON TABLE ==========\n",
    "print(\"\\n\" + \"=\"*60)\n",
    "print(\"📊 TOP 25 FEATURES BY MODEL\")\n",
    "print(\"=\"*60)\n",
    "\n",
    "comparison_df = pd.DataFrame({\n",
    "    \"Feature\": rf_importances[:25].index,\n",
    "    \"RF_Importance\": rf_importances[:25].values,\n",
    "    \"XGB_Importance\": xgb_importances[rf_importances[:25].index].values,\n",
    "    \"Avg_Importance\": (rf_importances[:25].values + xgb_importances[rf_importances[:25].index].values) / 2\n",
    "}).sort_values(\"Avg_Importance\", ascending=False)\n",
    "\n",
    "print(\"\\n\" + comparison_df.to_string(index=False))"
   ]
  },
  {
   "cell_type": "code",
   "execution_count": 25,
   "id": "d6549dc7",
   "metadata": {},
   "outputs": [
    {
     "name": "stdout",
     "output_type": "stream",
     "text": [
      "\n",
      "💾 Saved comparison table to: artifacts/feature_importance_comparison.csv\n"
     ]
    }
   ],
   "source": [
    "# Save comparison table\n",
    "comparison_path = \"artifacts/feature_importance_comparison.csv\"\n",
    "comparison_df.to_csv(comparison_path, index=False)\n",
    "print(f\"\\n💾 Saved comparison table to: {comparison_path}\")"
   ]
  },
  {
   "cell_type": "code",
   "execution_count": 26,
   "id": "37a69279",
   "metadata": {},
   "outputs": [
    {
     "name": "stdout",
     "output_type": "stream",
     "text": [
      "\n",
      "6️⃣ Creating combined feature importance plot...\n"
     ]
    }
   ],
   "source": [
    "print(\"\\n6️⃣ Creating combined feature importance plot...\")\n",
    "\n",
    "fig, axes = plt.subplots(1, 2, figsize=(20, 10))\n",
    "\n",
    "# RF plot\n",
    "sns.barplot(ax=axes[0], x=rf_importances[:25].values, y=rf_importances[:25].index, palette=\"viridis\")\n",
    "axes[0].set_title(\"Random Forest - Top 25 Features\", fontsize=16, fontweight='bold')\n",
    "axes[0].set_xlabel(\"Importance Score\", fontsize=12)\n",
    "axes[0].set_ylabel(\"Feature\", fontsize=12)\n",
    "\n",
    "# XGBoost plot\n",
    "sns.barplot(ax=axes[1], x=xgb_importances[:25].values, y=xgb_importances[:25].index, palette=\"plasma\")\n",
    "axes[1].set_title(\"XGBoost - Top 25 Features\", fontsize=16, fontweight='bold')\n",
    "axes[1].set_xlabel(\"Importance Score\", fontsize=12)\n",
    "axes[1].set_ylabel(\"\")\n",
    "\n",
    "plt.tight_layout()\n",
    "combined_plot_path = \"plots/combined_feature_importance.png\"\n",
    "plt.savefig(combined_plot_path, dpi=300, bbox_inches='tight')\n",
    "plt.close()"
   ]
  },
  {
   "cell_type": "code",
   "execution_count": 27,
   "id": "cf854dd9",
   "metadata": {},
   "outputs": [
    {
     "name": "stdout",
     "output_type": "stream",
     "text": [
      "📈 MODEL PERFORMANCE COMPARISON\n",
      "\n",
      "        Model     RMSE      MAE       R²  MAPE (%)\n",
      "Random Forest 0.052768 0.031691 0.706851       inf\n",
      "      XGBoost 0.055230 0.032807 0.678864       inf\n",
      "\n",
      "🏆 Best Model: Random Forest\n"
     ]
    }
   ],
   "source": [
    "# ========== MODEL COMPARISON ==========\n",
    "print(\"📈 MODEL PERFORMANCE COMPARISON\")\n",
    "\n",
    "comparison_metrics = pd.DataFrame({\n",
    "    \"Model\": [\"Random Forest\", \"XGBoost\"],\n",
    "    \"RMSE\": [rf_metrics['rmse'], xgb_metrics['rmse']],\n",
    "    \"MAE\": [rf_metrics['mae'], xgb_metrics['mae']],\n",
    "    \"R²\": [rf_metrics['r2'], xgb_metrics['r2']],\n",
    "    \"MAPE (%)\": [rf_metrics['mape'], xgb_metrics['mape']]\n",
    "})\n",
    "\n",
    "print(\"\\n\" + comparison_metrics.to_string(index=False))\n",
    "\n",
    "# Determine best model\n",
    "best_model_name = \"Random Forest\" if rf_metrics['rmse'] < xgb_metrics['rmse'] else \"XGBoost\"\n",
    "print(f\"\\n🏆 Best Model: {best_model_name}\")"
   ]
  },
  {
   "cell_type": "code",
   "execution_count": null,
   "id": "895b14c2",
   "metadata": {},
   "outputs": [
    {
     "name": "stdout",
     "output_type": "stream",
     "text": [
      "\\Saving results...\n",
      "   ✅ Saved results to: artifacts/feature_selection_results.json\n"
     ]
    }
   ],
   "source": [
    "# ========== SAVE RESULTS ==========\n",
    "import json\n",
    "print(\"\\Saving results...\")\n",
    "\n",
    "results = {\n",
    "    \"experiment\": EXPERIMENT_NAME,\n",
    "    \"mlflow_uri\": MLFLOW_TRACKING_URI,\n",
    "    \"data_path\": DATA_PATH,\n",
    "    \"target\": TARGET,\n",
    "    \"n_features\": len(features),\n",
    "    \"n_samples\": len(X),\n",
    "    \"train_size\": len(X_train),\n",
    "    \"test_size\": len(X_test),\n",
    "    \"optuna_trials\": OPTUNA_TRIALS,\n",
    "    \"best_model\": best_model_name,\n",
    "    \"rf_metrics\": rf_metrics,\n",
    "    \"xgb_metrics\": xgb_metrics,\n",
    "    \"rf_best_params\": rf_study.best_params,\n",
    "    \"xgb_best_params\": xgb_study.best_params\n",
    "}\n",
    "\n",
    "\n",
    "\n",
    "results_path = \"artifacts/feature_selection_results.json\"\n",
    "with open(results_path, 'w') as f:\n",
    "    # Convert numpy types to native Python types for JSON serialization\n",
    "    json_results = {k: (float(v) if isinstance(v, (np.floating, np.integer)) else v) \n",
    "                    for k, v in results.items() if k not in ['rf_metrics', 'xgb_metrics', 'rf_best_params', 'xgb_best_params']}\n",
    "    json_results['rf_metrics'] = {k: float(v) for k, v in rf_metrics.items()}\n",
    "    json_results['xgb_metrics'] = {k: float(v) for k, v in xgb_metrics.items()}\n",
    "    json_results['rf_best_params'] = rf_study.best_params\n",
    "    json_results['xgb_best_params'] = xgb_study.best_params\n",
    "    json.dump(json_results, f, indent=2)\n",
    "\n",
    "print(f\"   ✅ Saved results to: {results_path}\")\n"
   ]
  }
 ],
 "metadata": {
  "kernelspec": {
   "display_name": "base",
   "language": "python",
   "name": "python3"
  },
  "language_info": {
   "codemirror_mode": {
    "name": "ipython",
    "version": 3
   },
   "file_extension": ".py",
   "mimetype": "text/x-python",
   "name": "python",
   "nbconvert_exporter": "python",
   "pygments_lexer": "ipython3",
   "version": "3.13.5"
  }
 },
 "nbformat": 4,
 "nbformat_minor": 5
}
