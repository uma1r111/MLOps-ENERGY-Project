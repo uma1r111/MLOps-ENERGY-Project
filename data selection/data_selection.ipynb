{
 "cells": [
  {
   "cell_type": "code",
   "execution_count": 3,
   "id": "878830d1",
   "metadata": {},
   "outputs": [],
   "source": [
    "import pandas as pd\n",
    "import numpy as np\n",
    "import matplotlib.pyplot as plt\n",
    "import seaborn as sns\n",
    "import optuna\n",
    "from sklearn.ensemble import RandomForestRegressor\n",
    "from xgboost import XGBRegressor\n",
    "from sklearn.model_selection import train_test_split\n",
    "from sklearn.metrics import mean_squared_error, mean_absolute_error, r2_score\n",
    "import mlflow\n",
    "import mlflow.sklearn\n",
    "import mlflow.xgboost\n",
    "import warnings\n",
    "import os\n",
    "\n",
    "warnings.filterwarnings(\"ignore\")"
   ]
  },
  {
   "cell_type": "code",
   "execution_count": 8,
   "id": "539e8b04",
   "metadata": {},
   "outputs": [],
   "source": [
    "# ========== CONFIGURATION ==========\n",
    "DATA_PATH = \"../data/engineered_features.csv\"\n",
    "TARGET = \"retail_price_£_per_kWh\"\n",
    "MLFLOW_TRACKING_URI = \"http://172.210.183.133:8000/\"\n",
    "EXPERIMENT_NAME = \"UK Energy - Feature Selection\"\n",
    "TEST_SIZE = 0.2\n",
    "RANDOM_STATE = 42\n",
    "OPTUNA_TRIALS = 50"
   ]
  },
  {
   "cell_type": "code",
   "execution_count": 5,
   "id": "83c93f62",
   "metadata": {},
   "outputs": [
    {
     "name": "stdout",
     "output_type": "stream",
     "text": [
      "UK ENERGY PRICE PREDICTION - FEATURE SELECTION\n"
     ]
    },
    {
     "name": "stderr",
     "output_type": "stream",
     "text": [
      "2025/10/23 15:40:57 INFO mlflow.tracking.fluent: Experiment with name 'UK Energy - Feature Selection' does not exist. Creating a new experiment.\n"
     ]
    },
    {
     "name": "stdout",
     "output_type": "stream",
     "text": [
      "\n",
      "MLflow Tracking URI: http://172.210.183.133:8000/\n",
      "Experiment: UK Energy - Feature Selection\n"
     ]
    }
   ],
   "source": [
    "print(\"UK ENERGY PRICE PREDICTION - FEATURE SELECTION\")\n",
    "\n",
    "mlflow.set_tracking_uri(MLFLOW_TRACKING_URI)\n",
    "mlflow.set_experiment(EXPERIMENT_NAME)\n",
    "\n",
    "print(f\"\\nMLflow Tracking URI: {MLFLOW_TRACKING_URI}\")\n",
    "print(f\"Experiment: {EXPERIMENT_NAME}\")"
   ]
  },
  {
   "cell_type": "code",
   "execution_count": 9,
   "id": "80f66d6d",
   "metadata": {},
   "outputs": [
    {
     "name": "stdout",
     "output_type": "stream",
     "text": [
      "\\Loading data...\n",
      "   Loaded data shape: (1939, 104)\n",
      "   Date range: 2025-08-02 05:00:00+00:00 to 2025-10-21 23:00:00+00:00\n"
     ]
    }
   ],
   "source": [
    "print(\"\\Loading data...\")\n",
    "df = pd.read_csv(DATA_PATH)\n",
    "print(f\"   Loaded data shape: {df.shape}\")\n",
    "print(f\"   Date range: {df['datetime'].min()} to {df['datetime'].max()}\")\n"
   ]
  },
  {
   "cell_type": "code",
   "execution_count": 10,
   "id": "eaab5170",
   "metadata": {},
   "outputs": [
    {
     "name": "stdout",
     "output_type": "stream",
     "text": [
      "   Total features: 50\n",
      "   Clean samples: 1939\n",
      "   Target: retail_price_£_per_kWh\n"
     ]
    }
   ],
   "source": [
    "# Exclude non-feature columns\n",
    "excluded_cols = [TARGET, \"datetime\"]\n",
    "\n",
    "# Select only scaled features + temporal features for modeling\n",
    "features = [col for col in df.columns \n",
    "            if col.startswith('scaled_') or \n",
    "            col in ['hour_sin', 'hour_cos', 'month_sin', 'month_cos', \n",
    "                    'is_weekend', 'is_peak_hour', 'is_night', \n",
    "                    'hour', 'day_of_week', 'month']]\n",
    "\n",
    "# Remove rows with NaN (from lag/rolling features)\n",
    "df_clean = df[features + [TARGET]].dropna()\n",
    "\n",
    "X = df_clean[features]\n",
    "y = df_clean[TARGET]\n",
    "\n",
    "print(f\"   Total features: {len(features)}\")\n",
    "print(f\"   Clean samples: {len(X)}\")\n",
    "print(f\"   Target: {TARGET}\")"
   ]
  },
  {
   "cell_type": "code",
   "execution_count": 11,
   "id": "c18072ab",
   "metadata": {},
   "outputs": [
    {
     "name": "stdout",
     "output_type": "stream",
     "text": [
      "\n",
      "Splitting data...\n",
      "   Train: 1551 samples\n",
      "   Test: 388 samples\n"
     ]
    }
   ],
   "source": [
    "print(\"\\nSplitting data...\")\n",
    "X_train, X_test, y_train, y_test = train_test_split(\n",
    "    X, y, test_size=TEST_SIZE, random_state=RANDOM_STATE, shuffle=False  # Time-series: no shuffle\n",
    ")\n",
    "print(f\"   Train: {len(X_train)} samples\")\n",
    "print(f\"   Test: {len(X_test)} samples\")"
   ]
  },
  {
   "cell_type": "code",
   "execution_count": 12,
   "id": "9da13ed0",
   "metadata": {},
   "outputs": [],
   "source": [
    "def calculate_metrics(y_true, y_pred):\n",
    "    \"\"\"Calculate regression metrics.\"\"\"\n",
    "    mse = mean_squared_error(y_true, y_pred)\n",
    "    rmse = np.sqrt(mse)\n",
    "    mae = mean_absolute_error(y_true, y_pred)\n",
    "    r2 = r2_score(y_true, y_pred)\n",
    "    mape = np.mean(np.abs((y_true - y_pred) / y_true)) * 100\n",
    "    return {\n",
    "        \"mse\": mse,\n",
    "        \"rmse\": rmse,\n",
    "        \"mae\": mae,\n",
    "        \"r2\": r2,\n",
    "        \"mape\": mape\n",
    "    }"
   ]
  },
  {
   "cell_type": "code",
   "execution_count": 13,
   "id": "3616f84d",
   "metadata": {},
   "outputs": [],
   "source": [
    "def log_model_to_mlflow(model, model_name, params, metrics, feature_importances):\n",
    "    \"\"\"Log model, params, metrics, and artifacts to MLflow.\"\"\"\n",
    "    with mlflow.start_run(run_name=model_name):\n",
    "        # Log parameters\n",
    "        mlflow.log_params(params)\n",
    "        \n",
    "        # Log metrics\n",
    "        mlflow.log_metrics(metrics)\n",
    "        \n",
    "        # Log model\n",
    "        if \"XGBoost\" in model_name:\n",
    "            mlflow.xgboost.log_model(model, \"model\")\n",
    "        else:\n",
    "            mlflow.sklearn.log_model(model, \"model\")\n",
    "        \n",
    "        # Log feature importances as artifact\n",
    "        importance_df = pd.DataFrame({\n",
    "            'feature': feature_importances.index,\n",
    "            'importance': feature_importances.values\n",
    "        })\n",
    "        importance_path = f\"artifacts/{model_name}_feature_importance.csv\"\n",
    "        os.makedirs(\"artifacts\", exist_ok=True)\n",
    "        importance_df.to_csv(importance_path, index=False)\n",
    "        mlflow.log_artifact(importance_path)\n",
    "        \n",
    "        print(f\"   ✅ Logged {model_name} - RMSE: {metrics['rmse']:.4f}, R²: {metrics['r2']:.4f}\")\n"
   ]
  },
  {
   "cell_type": "code",
   "execution_count": 14,
   "id": "a8a1e6da",
   "metadata": {},
   "outputs": [],
   "source": [
    "def plot_feature_importance(importances, title, filename):\n",
    "    \"\"\"Plot and save feature importance.\"\"\"\n",
    "    plt.figure(figsize=(12, 8))\n",
    "    sns.barplot(x=importances.values, y=importances.index, palette=\"viridis\")\n",
    "    plt.title(title, fontsize=16, fontweight='bold')\n",
    "    plt.xlabel(\"Importance Score\", fontsize=12)\n",
    "    plt.ylabel(\"Feature\", fontsize=12)\n",
    "    plt.tight_layout()\n",
    "    \n",
    "    os.makedirs(\"plots\", exist_ok=True)\n",
    "    plot_path = f\"plots/{filename}\"\n",
    "    plt.savefig(plot_path, dpi=300, bbox_inches='tight')\n",
    "    plt.close()\n",
    "    \n",
    "    return plot_path"
   ]
  },
  {
   "cell_type": "code",
   "execution_count": 15,
   "id": "9f072184",
   "metadata": {},
   "outputs": [
    {
     "name": "stdout",
     "output_type": "stream",
     "text": [
      "\\Training Random Forest with Optuna...\n"
     ]
    }
   ],
   "source": [
    "# ========== RANDOM FOREST - OPTUNA ==========\n",
    "print(\"\\Training Random Forest with Optuna...\")\n",
    "\n",
    "def rf_objective(trial):\n",
    "    \"\"\"Optuna objective for Random Forest.\"\"\"\n",
    "    params = {\n",
    "        \"n_estimators\": trial.suggest_int(\"n_estimators\", 100, 500),\n",
    "        \"max_depth\": trial.suggest_int(\"max_depth\", 5, 30),\n",
    "        \"min_samples_split\": trial.suggest_int(\"min_samples_split\", 2, 20),\n",
    "        \"min_samples_leaf\": trial.suggest_int(\"min_samples_leaf\", 1, 10),\n",
    "        \"max_features\": trial.suggest_categorical(\"max_features\", [\"sqrt\", \"log2\", 0.5]),\n",
    "        \"random_state\": RANDOM_STATE\n",
    "    }\n",
    "    \n",
    "    model = RandomForestRegressor(**params)\n",
    "    model.fit(X_train, y_train)\n",
    "    preds = model.predict(X_test)\n",
    "    mse = mean_squared_error(y_test, preds)\n",
    "    \n",
    "    return mse"
   ]
  },
  {
   "cell_type": "code",
   "execution_count": 16,
   "id": "160335e1",
   "metadata": {},
   "outputs": [
    {
     "name": "stderr",
     "output_type": "stream",
     "text": [
      "[I 2025-10-23 15:45:03,354] A new study created in memory with name: RF_Optimization\n"
     ]
    },
    {
     "data": {
      "application/vnd.jupyter.widget-view+json": {
       "model_id": "d02d3e9d67124b5893dcb64082e85cee",
       "version_major": 2,
       "version_minor": 0
      },
      "text/plain": [
       "  0%|          | 0/50 [00:00<?, ?it/s]"
      ]
     },
     "metadata": {},
     "output_type": "display_data"
    },
    {
     "name": "stdout",
     "output_type": "stream",
     "text": [
      "[I 2025-10-23 15:45:04,979] Trial 0 finished with value: 0.0015211419333231566 and parameters: {'n_estimators': 387, 'max_depth': 7, 'min_samples_split': 11, 'min_samples_leaf': 8, 'max_features': 'log2'}. Best is trial 0 with value: 0.0015211419333231566.\n",
      "[I 2025-10-23 15:45:06,714] Trial 1 finished with value: 0.0013630316043520647 and parameters: {'n_estimators': 365, 'max_depth': 25, 'min_samples_split': 5, 'min_samples_leaf': 7, 'max_features': 'log2'}. Best is trial 1 with value: 0.0013630316043520647.\n",
      "[I 2025-10-23 15:45:09,983] Trial 2 finished with value: 0.00077519664456508 and parameters: {'n_estimators': 216, 'max_depth': 21, 'min_samples_split': 8, 'min_samples_leaf': 8, 'max_features': 0.5}. Best is trial 2 with value: 0.00077519664456508.\n",
      "[I 2025-10-23 15:45:17,155] Trial 3 finished with value: 0.0006592987362311459 and parameters: {'n_estimators': 371, 'max_depth': 11, 'min_samples_split': 14, 'min_samples_leaf': 3, 'max_features': 0.5}. Best is trial 3 with value: 0.0006592987362311459.\n",
      "[I 2025-10-23 15:45:23,472] Trial 4 finished with value: 0.0007616699453803925 and parameters: {'n_estimators': 356, 'max_depth': 29, 'min_samples_split': 18, 'min_samples_leaf': 9, 'max_features': 0.5}. Best is trial 3 with value: 0.0006592987362311459.\n",
      "[I 2025-10-23 15:45:25,319] Trial 5 finished with value: 0.0014141190658385815 and parameters: {'n_estimators': 399, 'max_depth': 21, 'min_samples_split': 2, 'min_samples_leaf': 10, 'max_features': 'log2'}. Best is trial 3 with value: 0.0006592987362311459.\n",
      "[I 2025-10-23 15:45:27,943] Trial 6 finished with value: 0.0011072106369339463 and parameters: {'n_estimators': 325, 'max_depth': 13, 'min_samples_split': 2, 'min_samples_leaf': 7, 'max_features': 'sqrt'}. Best is trial 3 with value: 0.0006592987362311459.\n",
      "[I 2025-10-23 15:45:31,871] Trial 7 finished with value: 0.0008690828034839443 and parameters: {'n_estimators': 455, 'max_depth': 24, 'min_samples_split': 3, 'min_samples_leaf': 3, 'max_features': 'sqrt'}. Best is trial 3 with value: 0.0006592987362311459.\n",
      "[I 2025-10-23 15:45:35,186] Trial 8 finished with value: 0.0009531640822829 and parameters: {'n_estimators': 471, 'max_depth': 13, 'min_samples_split': 5, 'min_samples_leaf': 4, 'max_features': 'sqrt'}. Best is trial 3 with value: 0.0006592987362311459.\n",
      "[I 2025-10-23 15:45:36,521] Trial 9 finished with value: 0.0012062175681138753 and parameters: {'n_estimators': 261, 'max_depth': 18, 'min_samples_split': 19, 'min_samples_leaf': 9, 'max_features': 'sqrt'}. Best is trial 3 with value: 0.0006592987362311459.\n",
      "[I 2025-10-23 15:45:37,636] Trial 10 finished with value: 0.0007828474088072587 and parameters: {'n_estimators': 107, 'max_depth': 5, 'min_samples_split': 15, 'min_samples_leaf': 1, 'max_features': 0.5}. Best is trial 3 with value: 0.0006592987362311459.\n",
      "[I 2025-10-23 15:45:46,282] Trial 11 finished with value: 0.0007205029886489071 and parameters: {'n_estimators': 288, 'max_depth': 28, 'min_samples_split': 18, 'min_samples_leaf': 5, 'max_features': 0.5}. Best is trial 3 with value: 0.0006592987362311459.\n",
      "[I 2025-10-23 15:45:53,253] Trial 12 finished with value: 0.0006915407380754384 and parameters: {'n_estimators': 242, 'max_depth': 12, 'min_samples_split': 14, 'min_samples_leaf': 4, 'max_features': 0.5}. Best is trial 3 with value: 0.0006592987362311459.\n",
      "[I 2025-10-23 15:45:58,247] Trial 13 finished with value: 0.0006406232095493458 and parameters: {'n_estimators': 209, 'max_depth': 11, 'min_samples_split': 14, 'min_samples_leaf': 2, 'max_features': 0.5}. Best is trial 13 with value: 0.0006406232095493458.\n",
      "[I 2025-10-23 15:46:01,832] Trial 14 finished with value: 0.0006316151698393141 and parameters: {'n_estimators': 139, 'max_depth': 9, 'min_samples_split': 13, 'min_samples_leaf': 1, 'max_features': 0.5}. Best is trial 14 with value: 0.0006316151698393141.\n",
      "[I 2025-10-23 15:46:04,986] Trial 15 finished with value: 0.0006245121787923977 and parameters: {'n_estimators': 155, 'max_depth': 9, 'min_samples_split': 11, 'min_samples_leaf': 1, 'max_features': 0.5}. Best is trial 15 with value: 0.0006245121787923977.\n",
      "[I 2025-10-23 15:46:08,080] Trial 16 finished with value: 0.0006023267809733822 and parameters: {'n_estimators': 119, 'max_depth': 8, 'min_samples_split': 10, 'min_samples_leaf': 1, 'max_features': 0.5}. Best is trial 16 with value: 0.0006023267809733822.\n",
      "[I 2025-10-23 15:46:12,842] Trial 17 finished with value: 0.0006138954429575386 and parameters: {'n_estimators': 152, 'max_depth': 15, 'min_samples_split': 9, 'min_samples_leaf': 2, 'max_features': 0.5}. Best is trial 16 with value: 0.0006023267809733822.\n",
      "[I 2025-10-23 15:46:17,931] Trial 18 finished with value: 0.0005974214517681818 and parameters: {'n_estimators': 180, 'max_depth': 16, 'min_samples_split': 8, 'min_samples_leaf': 2, 'max_features': 0.5}. Best is trial 18 with value: 0.0005974214517681818.\n",
      "[I 2025-10-23 15:46:19,253] Trial 19 finished with value: 0.0012583682512990924 and parameters: {'n_estimators': 100, 'max_depth': 17, 'min_samples_split': 7, 'min_samples_leaf': 5, 'max_features': 'log2'}. Best is trial 18 with value: 0.0005974214517681818.\n",
      "[I 2025-10-23 15:46:22,495] Trial 20 finished with value: 0.0007779133408914455 and parameters: {'n_estimators': 189, 'max_depth': 5, 'min_samples_split': 10, 'min_samples_leaf': 2, 'max_features': 0.5}. Best is trial 18 with value: 0.0005974214517681818.\n",
      "[I 2025-10-23 15:46:26,625] Trial 21 finished with value: 0.0005968388402847882 and parameters: {'n_estimators': 163, 'max_depth': 16, 'min_samples_split': 8, 'min_samples_leaf': 2, 'max_features': 0.5}. Best is trial 21 with value: 0.0005968388402847882.\n",
      "[I 2025-10-23 15:46:33,122] Trial 22 finished with value: 0.0006152743653452848 and parameters: {'n_estimators': 182, 'max_depth': 17, 'min_samples_split': 6, 'min_samples_leaf': 3, 'max_features': 0.5}. Best is trial 21 with value: 0.0005968388402847882.\n",
      "[I 2025-10-23 15:46:37,484] Trial 23 finished with value: 0.0006277285051960857 and parameters: {'n_estimators': 133, 'max_depth': 20, 'min_samples_split': 8, 'min_samples_leaf': 2, 'max_features': 0.5}. Best is trial 21 with value: 0.0005968388402847882.\n",
      "[I 2025-10-23 15:46:40,795] Trial 24 finished with value: 0.0006821649786197595 and parameters: {'n_estimators': 176, 'max_depth': 15, 'min_samples_split': 12, 'min_samples_leaf': 4, 'max_features': 0.5}. Best is trial 21 with value: 0.0005968388402847882.\n",
      "[I 2025-10-23 15:46:46,517] Trial 25 finished with value: 0.000578404149518052 and parameters: {'n_estimators': 245, 'max_depth': 15, 'min_samples_split': 9, 'min_samples_leaf': 1, 'max_features': 0.5}. Best is trial 25 with value: 0.000578404149518052.\n",
      "[I 2025-10-23 15:46:52,424] Trial 26 finished with value: 0.0006225057045828676 and parameters: {'n_estimators': 251, 'max_depth': 15, 'min_samples_split': 4, 'min_samples_leaf': 3, 'max_features': 0.5}. Best is trial 25 with value: 0.000578404149518052.\n",
      "[I 2025-10-23 15:46:58,073] Trial 27 finished with value: 0.0006121475825744784 and parameters: {'n_estimators': 264, 'max_depth': 19, 'min_samples_split': 8, 'min_samples_leaf': 2, 'max_features': 0.5}. Best is trial 25 with value: 0.000578404149518052.\n",
      "[I 2025-10-23 15:46:59,837] Trial 28 finished with value: 0.001284767846020754 and parameters: {'n_estimators': 300, 'max_depth': 23, 'min_samples_split': 6, 'min_samples_leaf': 6, 'max_features': 'log2'}. Best is trial 25 with value: 0.000578404149518052.\n",
      "[I 2025-10-23 15:47:01,372] Trial 29 finished with value: 0.0008464459937771254 and parameters: {'n_estimators': 218, 'max_depth': 16, 'min_samples_split': 10, 'min_samples_leaf': 1, 'max_features': 'sqrt'}. Best is trial 25 with value: 0.000578404149518052.\n",
      "[I 2025-10-23 15:47:02,458] Trial 30 finished with value: 0.0011288173437723314 and parameters: {'n_estimators': 230, 'max_depth': 14, 'min_samples_split': 12, 'min_samples_leaf': 4, 'max_features': 'log2'}. Best is trial 25 with value: 0.000578404149518052.\n",
      "[I 2025-10-23 15:47:04,623] Trial 31 finished with value: 0.0005946859022010162 and parameters: {'n_estimators': 131, 'max_depth': 8, 'min_samples_split': 10, 'min_samples_leaf': 1, 'max_features': 0.5}. Best is trial 25 with value: 0.000578404149518052.\n",
      "[I 2025-10-23 15:47:07,623] Trial 32 finished with value: 0.0006165709021897416 and parameters: {'n_estimators': 169, 'max_depth': 10, 'min_samples_split': 9, 'min_samples_leaf': 2, 'max_features': 0.5}. Best is trial 25 with value: 0.000578404149518052.\n",
      "[I 2025-10-23 15:47:10,335] Trial 33 finished with value: 0.000611498486220387 and parameters: {'n_estimators': 192, 'max_depth': 7, 'min_samples_split': 7, 'min_samples_leaf': 1, 'max_features': 0.5}. Best is trial 25 with value: 0.000578404149518052.\n",
      "[I 2025-10-23 15:47:14,337] Trial 34 finished with value: 0.0006352541803211689 and parameters: {'n_estimators': 202, 'max_depth': 19, 'min_samples_split': 9, 'min_samples_leaf': 3, 'max_features': 0.5}. Best is trial 25 with value: 0.000578404149518052.\n",
      "[I 2025-10-23 15:47:17,439] Trial 35 finished with value: 0.0006443152029263529 and parameters: {'n_estimators': 130, 'max_depth': 13, 'min_samples_split': 11, 'min_samples_leaf': 2, 'max_features': 0.5}. Best is trial 25 with value: 0.000578404149518052.\n",
      "[I 2025-10-23 15:47:22,246] Trial 36 finished with value: 0.0005691411590085207 and parameters: {'n_estimators': 158, 'max_depth': 27, 'min_samples_split': 7, 'min_samples_leaf': 1, 'max_features': 0.5}. Best is trial 36 with value: 0.0005691411590085207.\n",
      "[I 2025-10-23 15:47:23,503] Trial 37 finished with value: 0.0009137792057149545 and parameters: {'n_estimators': 156, 'max_depth': 27, 'min_samples_split': 6, 'min_samples_leaf': 1, 'max_features': 'log2'}. Best is trial 36 with value: 0.0005691411590085207.\n",
      "[I 2025-10-23 15:47:29,649] Trial 38 finished with value: 0.0006188793328674152 and parameters: {'n_estimators': 286, 'max_depth': 21, 'min_samples_split': 16, 'min_samples_leaf': 1, 'max_features': 0.5}. Best is trial 36 with value: 0.0005691411590085207.\n",
      "[I 2025-10-23 15:47:31,738] Trial 39 finished with value: 0.0011042290994034995 and parameters: {'n_estimators': 332, 'max_depth': 26, 'min_samples_split': 4, 'min_samples_leaf': 7, 'max_features': 'sqrt'}. Best is trial 36 with value: 0.0005691411590085207.\n",
      "[I 2025-10-23 15:47:42,137] Trial 40 finished with value: 0.0006362279675344422 and parameters: {'n_estimators': 407, 'max_depth': 23, 'min_samples_split': 7, 'min_samples_leaf': 3, 'max_features': 0.5}. Best is trial 36 with value: 0.0005691411590085207.\n",
      "[I 2025-10-23 15:47:45,869] Trial 41 finished with value: 0.0006142051665494227 and parameters: {'n_estimators': 161, 'max_depth': 18, 'min_samples_split': 8, 'min_samples_leaf': 2, 'max_features': 0.5}. Best is trial 36 with value: 0.0005691411590085207.\n",
      "[I 2025-10-23 15:47:53,275] Trial 42 finished with value: 0.0005738585136173198 and parameters: {'n_estimators': 226, 'max_depth': 29, 'min_samples_split': 5, 'min_samples_leaf': 1, 'max_features': 0.5}. Best is trial 36 with value: 0.0005691411590085207.\n",
      "[I 2025-10-23 15:48:01,002] Trial 43 finished with value: 0.0005736486037534415 and parameters: {'n_estimators': 224, 'max_depth': 30, 'min_samples_split': 5, 'min_samples_leaf': 1, 'max_features': 0.5}. Best is trial 36 with value: 0.0005691411590085207.\n",
      "[I 2025-10-23 15:48:06,895] Trial 44 finished with value: 0.000546689823291409 and parameters: {'n_estimators': 218, 'max_depth': 30, 'min_samples_split': 4, 'min_samples_leaf': 1, 'max_features': 0.5}. Best is trial 44 with value: 0.000546689823291409.\n",
      "[I 2025-10-23 15:48:13,186] Trial 45 finished with value: 0.0005450507374618272 and parameters: {'n_estimators': 226, 'max_depth': 30, 'min_samples_split': 4, 'min_samples_leaf': 1, 'max_features': 0.5}. Best is trial 45 with value: 0.0005450507374618272.\n",
      "[I 2025-10-23 15:48:14,553] Trial 46 finished with value: 0.0011714060132731248 and parameters: {'n_estimators': 228, 'max_depth': 30, 'min_samples_split': 3, 'min_samples_leaf': 8, 'max_features': 'sqrt'}. Best is trial 45 with value: 0.0005450507374618272.\n",
      "[I 2025-10-23 15:48:18,836] Trial 47 finished with value: 0.0007844566109481102 and parameters: {'n_estimators': 270, 'max_depth': 30, 'min_samples_split': 4, 'min_samples_leaf': 10, 'max_features': 0.5}. Best is trial 45 with value: 0.0005450507374618272.\n",
      "[I 2025-10-23 15:48:24,457] Trial 48 finished with value: 0.0005320372643019684 and parameters: {'n_estimators': 208, 'max_depth': 28, 'min_samples_split': 2, 'min_samples_leaf': 1, 'max_features': 0.5}. Best is trial 48 with value: 0.0005320372643019684.\n",
      "[I 2025-10-23 15:48:25,529] Trial 49 finished with value: 0.0010495076828447637 and parameters: {'n_estimators': 203, 'max_depth': 28, 'min_samples_split': 2, 'min_samples_leaf': 3, 'max_features': 'log2'}. Best is trial 48 with value: 0.0005320372643019684.\n",
      "\n",
      "   🏆 Best RF Parameters:\n",
      "      n_estimators: 208\n",
      "      max_depth: 28\n",
      "      min_samples_split: 2\n",
      "      min_samples_leaf: 1\n",
      "      max_features: 0.5\n",
      "   📉 Best MSE: 0.000532\n"
     ]
    }
   ],
   "source": [
    "rf_study = optuna.create_study(direction=\"minimize\", study_name=\"RF_Optimization\")\n",
    "rf_study.optimize(rf_objective, n_trials=OPTUNA_TRIALS, show_progress_bar=True)\n",
    "\n",
    "print(f\"\\n   🏆 Best RF Parameters:\")\n",
    "for key, value in rf_study.best_params.items():\n",
    "    print(f\"      {key}: {value}\")\n",
    "print(f\"   📉 Best MSE: {rf_study.best_value:.6f}\")"
   ]
  },
  {
   "cell_type": "code",
   "execution_count": 17,
   "id": "2958f17a",
   "metadata": {},
   "outputs": [],
   "source": [
    "# Train best RF model\n",
    "best_rf = RandomForestRegressor(**rf_study.best_params, random_state=RANDOM_STATE)\n",
    "best_rf.fit(X_train, y_train)\n",
    "rf_preds = best_rf.predict(X_test)\n",
    "rf_metrics = calculate_metrics(y_test, rf_preds)"
   ]
  },
  {
   "cell_type": "code",
   "execution_count": 18,
   "id": "f2e86527",
   "metadata": {},
   "outputs": [],
   "source": [
    "# Get feature importances\n",
    "rf_importances = pd.Series(\n",
    "    best_rf.feature_importances_, \n",
    "    index=X_train.columns\n",
    ").sort_values(ascending=False)"
   ]
  },
  {
   "cell_type": "code",
   "execution_count": 19,
   "id": "72e62373",
   "metadata": {},
   "outputs": [
    {
     "name": "stderr",
     "output_type": "stream",
     "text": [
      "2025/10/23 15:49:20 WARNING mlflow.models.model: `artifact_path` is deprecated. Please use `name` instead.\n",
      "2025/10/23 15:50:13 WARNING mlflow.models.model: Model logged without a signature and input example. Please set `input_example` parameter when logging the model to auto infer the model signature.\n"
     ]
    },
    {
     "name": "stdout",
     "output_type": "stream",
     "text": [
      "   ✅ Logged RandomForest_Optuna - RMSE: 0.0231, R²: 0.9178\n",
      "🏃 View run RandomForest_Optuna at: http://172.210.183.133:8000/#/experiments/1/runs/0c5e29ea80b042e1bcf79556251124ce\n",
      "🧪 View experiment at: http://172.210.183.133:8000/#/experiments/1\n"
     ]
    }
   ],
   "source": [
    "# Log to MLflow\n",
    "log_model_to_mlflow(best_rf, \"RandomForest_Optuna\", rf_study.best_params, rf_metrics, rf_importances[:25])"
   ]
  },
  {
   "cell_type": "code",
   "execution_count": 20,
   "id": "8eeee950",
   "metadata": {},
   "outputs": [],
   "source": [
    "# Plot top 25 features\n",
    "rf_plot_path = plot_feature_importance(\n",
    "    rf_importances[:25], \n",
    "    \"Random Forest - Top 25 Feature Importances\",\n",
    "    \"rf_feature_importance.png\"\n",
    ")"
   ]
  },
  {
   "cell_type": "code",
   "execution_count": 21,
   "id": "9a282990",
   "metadata": {},
   "outputs": [
    {
     "name": "stdout",
     "output_type": "stream",
     "text": [
      "🏃 View run RandomForest_Optuna at: http://172.210.183.133:8000/#/experiments/1/runs/45930e8baae24975ac84706821fd22c1\n",
      "🧪 View experiment at: http://172.210.183.133:8000/#/experiments/1\n",
      "\n",
      "   📊 Random Forest Metrics:\n",
      "      RMSE: 0.0231\n",
      "      MAE: 0.0147\n",
      "      R²: 0.9178\n",
      "      MAPE: 7.03%\n"
     ]
    }
   ],
   "source": [
    "with mlflow.start_run(run_name=\"RandomForest_Optuna\"):\n",
    "    mlflow.log_artifact(rf_plot_path)\n",
    "\n",
    "print(f\"\\n   📊 Random Forest Metrics:\")\n",
    "print(f\"      RMSE: {rf_metrics['rmse']:.4f}\")\n",
    "print(f\"      MAE: {rf_metrics['mae']:.4f}\")\n",
    "print(f\"      R²: {rf_metrics['r2']:.4f}\")\n",
    "print(f\"      MAPE: {rf_metrics['mape']:.2f}%\")"
   ]
  },
  {
   "cell_type": "code",
   "execution_count": 23,
   "id": "b8ac1407",
   "metadata": {},
   "outputs": [
    {
     "name": "stdout",
     "output_type": "stream",
     "text": [
      "Training XGBoost with Optuna...\n"
     ]
    }
   ],
   "source": [
    "# ========== XGBOOST - OPTUNA ==========\n",
    "print(\"Training XGBoost with Optuna...\")\n",
    "\n",
    "def xgb_objective(trial):\n",
    "    \"\"\"Optuna objective for XGBoost.\"\"\"\n",
    "    params = {\n",
    "        \"n_estimators\": trial.suggest_int(\"n_estimators\", 100, 500),\n",
    "        \"max_depth\": trial.suggest_int(\"max_depth\", 3, 15),\n",
    "        \"learning_rate\": trial.suggest_float(\"learning_rate\", 0.01, 0.3, log=True),\n",
    "        \"subsample\": trial.suggest_float(\"subsample\", 0.6, 1.0),\n",
    "        \"colsample_bytree\": trial.suggest_float(\"colsample_bytree\", 0.6, 1.0),\n",
    "        \"gamma\": trial.suggest_float(\"gamma\", 0, 1.0),\n",
    "        \"reg_alpha\": trial.suggest_float(\"reg_alpha\", 0, 2.0),\n",
    "        \"reg_lambda\": trial.suggest_float(\"reg_lambda\", 0, 2.0),\n",
    "        \"random_state\": RANDOM_STATE,\n",
    "        \"tree_method\": \"hist\"\n",
    "    }\n",
    "    \n",
    "    model = XGBRegressor(**params)\n",
    "    model.fit(X_train, y_train, eval_set=[(X_test, y_test)], verbose=False)\n",
    "    preds = model.predict(X_test)\n",
    "    mse = mean_squared_error(y_test, preds)\n",
    "    \n",
    "    return mse"
   ]
  },
  {
   "cell_type": "code",
   "execution_count": 24,
   "id": "3826587a",
   "metadata": {},
   "outputs": [
    {
     "name": "stderr",
     "output_type": "stream",
     "text": [
      "[I 2025-10-23 15:53:16,710] A new study created in memory with name: XGB_Optimization\n"
     ]
    },
    {
     "data": {
      "application/vnd.jupyter.widget-view+json": {
       "model_id": "2685fd40c51a4ccf8a32417752544de7",
       "version_major": 2,
       "version_minor": 0
      },
      "text/plain": [
       "  0%|          | 0/50 [00:00<?, ?it/s]"
      ]
     },
     "metadata": {},
     "output_type": "display_data"
    },
    {
     "name": "stdout",
     "output_type": "stream",
     "text": [
      "[I 2025-10-23 15:53:17,337] Trial 0 finished with value: 0.0016210899002000831 and parameters: {'n_estimators': 186, 'max_depth': 11, 'learning_rate': 0.07184134466962695, 'subsample': 0.6756463925229624, 'colsample_bytree': 0.7378415627966151, 'gamma': 0.06346876026103287, 'reg_alpha': 1.0646731677803267, 'reg_lambda': 1.8486676715160886}. Best is trial 0 with value: 0.0016210899002000831.\n",
      "[I 2025-10-23 15:53:18,119] Trial 1 finished with value: 0.0027845763967091096 and parameters: {'n_estimators': 413, 'max_depth': 4, 'learning_rate': 0.20289736973616626, 'subsample': 0.7457640075928731, 'colsample_bytree': 0.7614143065260637, 'gamma': 0.5239944171199769, 'reg_alpha': 1.9384042249716809, 'reg_lambda': 0.9946137223428475}. Best is trial 0 with value: 0.0016210899002000831.\n",
      "[I 2025-10-23 15:53:18,490] Trial 2 finished with value: 0.002658698165109165 and parameters: {'n_estimators': 269, 'max_depth': 4, 'learning_rate': 0.043267649723952264, 'subsample': 0.8248003196690167, 'colsample_bytree': 0.9657138055609268, 'gamma': 0.5073405997764541, 'reg_alpha': 1.2507278058347946, 'reg_lambda': 0.07031776245788346}. Best is trial 0 with value: 0.0016210899002000831.\n",
      "[I 2025-10-23 15:53:19,103] Trial 3 finished with value: 0.003385129383040829 and parameters: {'n_estimators': 340, 'max_depth': 8, 'learning_rate': 0.22084568445986072, 'subsample': 0.6085945675094073, 'colsample_bytree': 0.9541102685753157, 'gamma': 0.5920678911628477, 'reg_alpha': 1.7348583678357878, 'reg_lambda': 1.640776964784982}. Best is trial 0 with value: 0.0016210899002000831.\n",
      "[I 2025-10-23 15:53:19,705] Trial 4 finished with value: 0.0035072161923166392 and parameters: {'n_estimators': 251, 'max_depth': 7, 'learning_rate': 0.13157969831816588, 'subsample': 0.6936631408057008, 'colsample_bytree': 0.95750808011216, 'gamma': 0.8041373301556107, 'reg_alpha': 1.6250183660633524, 'reg_lambda': 1.8504852216022538}. Best is trial 0 with value: 0.0016210899002000831.\n",
      "[I 2025-10-23 15:53:20,530] Trial 5 finished with value: 0.0033077878570859916 and parameters: {'n_estimators': 462, 'max_depth': 4, 'learning_rate': 0.09549263839606009, 'subsample': 0.6184228149606594, 'colsample_bytree': 0.8735089058997432, 'gamma': 0.5872718899971859, 'reg_alpha': 1.9636611437310159, 'reg_lambda': 1.6608957079775157}. Best is trial 0 with value: 0.0016210899002000831.\n",
      "[I 2025-10-23 15:53:21,083] Trial 6 finished with value: 0.0027106751281648603 and parameters: {'n_estimators': 295, 'max_depth': 9, 'learning_rate': 0.2887928925710434, 'subsample': 0.7307014584992636, 'colsample_bytree': 0.9351593409278256, 'gamma': 0.5734107488309125, 'reg_alpha': 0.7385625882250362, 'reg_lambda': 1.6098123764097396}. Best is trial 0 with value: 0.0016210899002000831.\n",
      "[I 2025-10-23 15:53:21,524] Trial 7 finished with value: 0.00196702815570363 and parameters: {'n_estimators': 277, 'max_depth': 6, 'learning_rate': 0.024775715189655396, 'subsample': 0.6802906717852465, 'colsample_bytree': 0.842025193648099, 'gamma': 0.2068581631640969, 'reg_alpha': 0.709150162892284, 'reg_lambda': 0.8203444123284029}. Best is trial 0 with value: 0.0016210899002000831.\n",
      "[I 2025-10-23 15:53:21,909] Trial 8 finished with value: 0.0023629310289650096 and parameters: {'n_estimators': 213, 'max_depth': 15, 'learning_rate': 0.014640881828727591, 'subsample': 0.6148630065541222, 'colsample_bytree': 0.6832895626656728, 'gamma': 0.21914510598328463, 'reg_alpha': 1.5876332276319218, 'reg_lambda': 0.10023592891561117}. Best is trial 0 with value: 0.0016210899002000831.\n",
      "[I 2025-10-23 15:53:22,459] Trial 9 finished with value: 0.003402416450170026 and parameters: {'n_estimators': 416, 'max_depth': 11, 'learning_rate': 0.29428098729346275, 'subsample': 0.6888167358770185, 'colsample_bytree': 0.6892151681977412, 'gamma': 0.9844654592145922, 'reg_alpha': 0.7450853189871975, 'reg_lambda': 1.5773859805351202}. Best is trial 0 with value: 0.0016210899002000831.\n",
      "[I 2025-10-23 15:53:22,723] Trial 10 finished with value: 0.0014595191914516257 and parameters: {'n_estimators': 116, 'max_depth': 12, 'learning_rate': 0.05734205639890969, 'subsample': 0.932081244876791, 'colsample_bytree': 0.6159484010193615, 'gamma': 0.09331411887361682, 'reg_alpha': 0.0045651662625868505, 'reg_lambda': 0.6119751757536072}. Best is trial 10 with value: 0.0014595191914516257.\n",
      "[I 2025-10-23 15:53:23,356] Trial 11 finished with value: 0.0009268704379174308 and parameters: {'n_estimators': 114, 'max_depth': 12, 'learning_rate': 0.05841355132115779, 'subsample': 0.9585294783886021, 'colsample_bytree': 0.6039796311874345, 'gamma': 0.015997190946949277, 'reg_alpha': 0.05076148561985518, 'reg_lambda': 0.5070333969185695}. Best is trial 11 with value: 0.0009268704379174308.\n",
      "[I 2025-10-23 15:53:23,826] Trial 12 finished with value: 0.0007927088324594244 and parameters: {'n_estimators': 103, 'max_depth': 14, 'learning_rate': 0.04171963395390847, 'subsample': 0.9618045899107114, 'colsample_bytree': 0.6285869849907426, 'gamma': 0.007845040109763772, 'reg_alpha': 0.08063099973488728, 'reg_lambda': 0.5465545231110513}. Best is trial 12 with value: 0.0007927088324594244.\n",
      "[I 2025-10-23 15:53:24,120] Trial 13 finished with value: 0.0019490790798918705 and parameters: {'n_estimators': 129, 'max_depth': 15, 'learning_rate': 0.03039443772420574, 'subsample': 0.9979870708695798, 'colsample_bytree': 0.613814897180407, 'gamma': 0.28722518760192134, 'reg_alpha': 0.009218235539093511, 'reg_lambda': 0.4357987580753784}. Best is trial 12 with value: 0.0007927088324594244.\n",
      "[I 2025-10-23 15:53:24,369] Trial 14 finished with value: 0.002129423511580772 and parameters: {'n_estimators': 100, 'max_depth': 13, 'learning_rate': 0.03452790762280154, 'subsample': 0.8889769784446127, 'colsample_bytree': 0.663924923330948, 'gamma': 0.3583440289314723, 'reg_alpha': 0.33667107177744565, 'reg_lambda': 0.41355131335314155}. Best is trial 12 with value: 0.0007927088324594244.\n",
      "[I 2025-10-23 15:53:25,424] Trial 15 finished with value: 0.0011661194149460764 and parameters: {'n_estimators': 186, 'max_depth': 14, 'learning_rate': 0.018100758851655775, 'subsample': 0.9848837534557469, 'colsample_bytree': 0.602989228160927, 'gamma': 0.003154036096980917, 'reg_alpha': 0.376337583244078, 'reg_lambda': 1.2469314208547901}. Best is trial 12 with value: 0.0007927088324594244.\n",
      "[I 2025-10-23 15:53:26,473] Trial 16 finished with value: 0.0023536277078027713 and parameters: {'n_estimators': 152, 'max_depth': 11, 'learning_rate': 0.011070298973634669, 'subsample': 0.8710468673974031, 'colsample_bytree': 0.7460786546092253, 'gamma': 0.3762856810676017, 'reg_alpha': 0.3259345009247737, 'reg_lambda': 0.6865379733592678}. Best is trial 12 with value: 0.0007927088324594244.\n",
      "[I 2025-10-23 15:53:27,215] Trial 17 finished with value: 0.0016766325057809936 and parameters: {'n_estimators': 338, 'max_depth': 13, 'learning_rate': 0.0730009396344739, 'subsample': 0.9313959418889243, 'colsample_bytree': 0.6554293322166795, 'gamma': 0.1552801987766863, 'reg_alpha': 0.20259062631639085, 'reg_lambda': 0.3061853236679638}. Best is trial 12 with value: 0.0007927088324594244.\n",
      "[I 2025-10-23 15:53:27,645] Trial 18 finished with value: 0.0012524691890789092 and parameters: {'n_estimators': 160, 'max_depth': 10, 'learning_rate': 0.0444995451856336, 'subsample': 0.9419555233707496, 'colsample_bytree': 0.7111832000738002, 'gamma': 0.020216597323057875, 'reg_alpha': 0.678992048545523, 'reg_lambda': 1.1706956952963548}. Best is trial 12 with value: 0.0007927088324594244.\n",
      "[I 2025-10-23 15:53:28,088] Trial 19 finished with value: 0.002192273505828592 and parameters: {'n_estimators': 229, 'max_depth': 13, 'learning_rate': 0.13370562669828667, 'subsample': 0.8238131569122769, 'colsample_bytree': 0.7950134578751865, 'gamma': 0.38708027101611686, 'reg_alpha': 0.512708600302931, 'reg_lambda': 0.8672938935697789}. Best is trial 12 with value: 0.0007927088324594244.\n",
      "[I 2025-10-23 15:53:28,384] Trial 20 finished with value: 0.0028204411118823926 and parameters: {'n_estimators': 150, 'max_depth': 14, 'learning_rate': 0.02238025118803654, 'subsample': 0.8771345662910713, 'colsample_bytree': 0.6416851432432911, 'gamma': 0.7240541953615138, 'reg_alpha': 0.17090199774043544, 'reg_lambda': 0.606803711940333}. Best is trial 12 with value: 0.0007927088324594244.\n",
      "[I 2025-10-23 15:53:30,065] Trial 21 finished with value: 0.001315826488660949 and parameters: {'n_estimators': 182, 'max_depth': 14, 'learning_rate': 0.017749430283294114, 'subsample': 0.9946618822506709, 'colsample_bytree': 0.6175693665564446, 'gamma': 0.0011514949364947007, 'reg_alpha': 0.3865818788742856, 'reg_lambda': 1.237114465239585}. Best is trial 12 with value: 0.0007927088324594244.\n",
      "[I 2025-10-23 15:53:30,404] Trial 22 finished with value: 0.002819692229509824 and parameters: {'n_estimators': 104, 'max_depth': 15, 'learning_rate': 0.010122694114329, 'subsample': 0.9627264951023589, 'colsample_bytree': 0.6127747460181613, 'gamma': 0.12797431957604383, 'reg_alpha': 0.14413187862207522, 'reg_lambda': 1.2408698810586247}. Best is trial 12 with value: 0.0007927088324594244.\n",
      "[I 2025-10-23 15:53:30,757] Trial 23 finished with value: 0.0019514598920237305 and parameters: {'n_estimators': 201, 'max_depth': 12, 'learning_rate': 0.035548049673518496, 'subsample': 0.9676010622959847, 'colsample_bytree': 0.646985805271973, 'gamma': 0.262148439012725, 'reg_alpha': 0.5585704286497174, 'reg_lambda': 1.3749414670245903}. Best is trial 12 with value: 0.0007927088324594244.\n",
      "[I 2025-10-23 15:53:31,253] Trial 24 finished with value: 0.0012413862514036446 and parameters: {'n_estimators': 140, 'max_depth': 14, 'learning_rate': 0.05711804495243172, 'subsample': 0.9044425185797588, 'colsample_bytree': 0.6859524917311707, 'gamma': 0.0016401448427327044, 'reg_alpha': 0.9650911831553833, 'reg_lambda': 1.044053616862092}. Best is trial 12 with value: 0.0007927088324594244.\n",
      "[I 2025-10-23 15:53:31,921] Trial 25 finished with value: 0.0017001970083662305 and parameters: {'n_estimators': 169, 'max_depth': 12, 'learning_rate': 0.01863851635108329, 'subsample': 0.8462034830924665, 'colsample_bytree': 0.6014727654148218, 'gamma': 0.13401774113450787, 'reg_alpha': 0.4558071026933654, 'reg_lambda': 0.24603523883602268}. Best is trial 12 with value: 0.0007927088324594244.\n",
      "[I 2025-10-23 15:53:32,326] Trial 26 finished with value: 0.0013437483596944737 and parameters: {'n_estimators': 228, 'max_depth': 10, 'learning_rate': 0.09585891748930558, 'subsample': 0.9621203261858514, 'colsample_bytree': 0.7120630947569078, 'gamma': 0.0632877561302603, 'reg_alpha': 0.2610698978418144, 'reg_lambda': 0.7855200226517733}. Best is trial 12 with value: 0.0007927088324594244.\n",
      "[I 2025-10-23 15:53:32,608] Trial 27 finished with value: 0.001749612007940725 and parameters: {'n_estimators': 130, 'max_depth': 14, 'learning_rate': 0.024980443837791005, 'subsample': 0.911808492947175, 'colsample_bytree': 0.6389374123401792, 'gamma': 0.18071693564913965, 'reg_alpha': 0.09586147827403375, 'reg_lambda': 0.5104631282129236}. Best is trial 12 with value: 0.0007927088324594244.\n",
      "[I 2025-10-23 15:53:32,893] Trial 28 finished with value: 0.0019097132465558464 and parameters: {'n_estimators': 103, 'max_depth': 13, 'learning_rate': 0.045046930266848605, 'subsample': 0.9785532012188035, 'colsample_bytree': 0.7868461864333454, 'gamma': 0.29108384021226313, 'reg_alpha': 0.023024988114315973, 'reg_lambda': 0.9565468876976417}. Best is trial 12 with value: 0.0007927088324594244.\n",
      "[I 2025-10-23 15:53:33,353] Trial 29 finished with value: 0.001598892644186323 and parameters: {'n_estimators': 191, 'max_depth': 10, 'learning_rate': 0.014084469491029152, 'subsample': 0.9490569519223775, 'colsample_bytree': 0.7239263037182662, 'gamma': 0.07783076406892524, 'reg_alpha': 0.9597812389656475, 'reg_lambda': 1.431589703404988}. Best is trial 12 with value: 0.0007927088324594244.\n",
      "[I 2025-10-23 15:53:33,888] Trial 30 finished with value: 0.002453502277345898 and parameters: {'n_estimators': 330, 'max_depth': 12, 'learning_rate': 0.07086262385255748, 'subsample': 0.7916934607113617, 'colsample_bytree': 0.8258291188856934, 'gamma': 0.4329546063602022, 'reg_alpha': 1.1927625950199947, 'reg_lambda': 1.9990569661007822}. Best is trial 12 with value: 0.0007927088324594244.\n",
      "[I 2025-10-23 15:53:34,441] Trial 31 finished with value: 0.0012304826809117037 and parameters: {'n_estimators': 139, 'max_depth': 14, 'learning_rate': 0.0609481126158237, 'subsample': 0.9025807704339087, 'colsample_bytree': 0.6750264946671214, 'gamma': 0.0008605088449317684, 'reg_alpha': 0.9254229805638257, 'reg_lambda': 1.0756243832936043}. Best is trial 12 with value: 0.0007927088324594244.\n",
      "[I 2025-10-23 15:53:34,755] Trial 32 finished with value: 0.0012637436859778324 and parameters: {'n_estimators': 171, 'max_depth': 15, 'learning_rate': 0.0765795029920285, 'subsample': 0.9214630651698398, 'colsample_bytree': 0.6694959600170658, 'gamma': 0.04266139823591672, 'reg_alpha': 0.2524967555836289, 'reg_lambda': 1.06140814515087}. Best is trial 12 with value: 0.0007927088324594244.\n",
      "[I 2025-10-23 15:53:34,975] Trial 33 finished with value: 0.001643463472763909 and parameters: {'n_estimators': 130, 'max_depth': 14, 'learning_rate': 0.10571344396622563, 'subsample': 0.9833861969216237, 'colsample_bytree': 0.6343119893935126, 'gamma': 0.10688857628926067, 'reg_alpha': 0.8566369616588629, 'reg_lambda': 1.4400379097570044}. Best is trial 12 with value: 0.0007927088324594244.\n",
      "[I 2025-10-23 15:53:35,265] Trial 34 finished with value: 0.0015820440833080513 and parameters: {'n_estimators': 146, 'max_depth': 13, 'learning_rate': 0.051314887642219136, 'subsample': 0.8592436341715477, 'colsample_bytree': 0.6030865304579531, 'gamma': 0.055907688070393785, 'reg_alpha': 1.2682207428745182, 'reg_lambda': 1.1596805173648281}. Best is trial 12 with value: 0.0007927088324594244.\n",
      "[I 2025-10-23 15:53:35,742] Trial 35 finished with value: 0.0017287404457561623 and parameters: {'n_estimators': 186, 'max_depth': 15, 'learning_rate': 0.03576265301702076, 'subsample': 0.8978025178328415, 'colsample_bytree': 0.6352794993165747, 'gamma': 0.15386053590474655, 'reg_alpha': 0.5918420813648715, 'reg_lambda': 0.9100260471558181}. Best is trial 12 with value: 0.0007927088324594244.\n",
      "[I 2025-10-23 15:53:36,294] Trial 36 finished with value: 0.001334918068008585 and parameters: {'n_estimators': 246, 'max_depth': 14, 'learning_rate': 0.06035497409594968, 'subsample': 0.7753080320823167, 'colsample_bytree': 0.9978604317347569, 'gamma': 0.0030448093134970607, 'reg_alpha': 1.085113971789195, 'reg_lambda': 0.7517498905593443}. Best is trial 12 with value: 0.0007927088324594244.\n",
      "[I 2025-10-23 15:53:36,508] Trial 37 finished with value: 0.002066471485392723 and parameters: {'n_estimators': 119, 'max_depth': 11, 'learning_rate': 0.11003052708981775, 'subsample': 0.9538627995430883, 'colsample_bytree': 0.75357957345937, 'gamma': 0.239405216046165, 'reg_alpha': 1.4518141685838346, 'reg_lambda': 0.16412302840365323}. Best is trial 12 with value: 0.0007927088324594244.\n",
      "[I 2025-10-23 15:53:37,148] Trial 38 finished with value: 0.0014712062720263817 and parameters: {'n_estimators': 210, 'max_depth': 3, 'learning_rate': 0.02903847637295828, 'subsample': 0.916428584971661, 'colsample_bytree': 0.8950047356856232, 'gamma': 0.07647161741858424, 'reg_alpha': 0.4340481911089799, 'reg_lambda': 0.009552594442921114}. Best is trial 12 with value: 0.0007927088324594244.\n",
      "[I 2025-10-23 15:53:37,863] Trial 39 finished with value: 0.002660355155265977 and parameters: {'n_estimators': 496, 'max_depth': 6, 'learning_rate': 0.16937070973486776, 'subsample': 0.9993951044810637, 'colsample_bytree': 0.7001899423150278, 'gamma': 0.8271489933324242, 'reg_alpha': 0.0956393907817003, 'reg_lambda': 1.3302903294183457}. Best is trial 12 with value: 0.0007927088324594244.\n",
      "[I 2025-10-23 15:53:38,465] Trial 40 finished with value: 0.001984317582393906 and parameters: {'n_estimators': 369, 'max_depth': 8, 'learning_rate': 0.0813083836926592, 'subsample': 0.9744387381382492, 'colsample_bytree': 0.659041578718319, 'gamma': 0.17673145223810155, 'reg_alpha': 1.8654824459934383, 'reg_lambda': 0.5400213927125735}. Best is trial 12 with value: 0.0007927088324594244.\n",
      "[I 2025-10-23 15:53:40,268] Trial 41 finished with value: 0.001247321488281861 and parameters: {'n_estimators': 145, 'max_depth': 14, 'learning_rate': 0.062158352552418604, 'subsample': 0.9056891494898583, 'colsample_bytree': 0.6835973377190768, 'gamma': 0.0004079157025108531, 'reg_alpha': 0.8748227802225995, 'reg_lambda': 1.0553094997646486}. Best is trial 12 with value: 0.0007927088324594244.\n",
      "[I 2025-10-23 15:53:40,569] Trial 42 finished with value: 0.0017171907701175623 and parameters: {'n_estimators': 133, 'max_depth': 13, 'learning_rate': 0.05176029483807751, 'subsample': 0.9376084538615902, 'colsample_bytree': 0.7711271539053757, 'gamma': 0.10058825197273417, 'reg_alpha': 1.3367593924564907, 'reg_lambda': 1.0090935640792171}. Best is trial 12 with value: 0.0007927088324594244.\n",
      "[I 2025-10-23 15:53:41,058] Trial 43 finished with value: 0.0016041142785389584 and parameters: {'n_estimators': 165, 'max_depth': 15, 'learning_rate': 0.04468124697649509, 'subsample': 0.8314486762269641, 'colsample_bytree': 0.6794203747435769, 'gamma': 0.04614617957370311, 'reg_alpha': 1.1806420003198004, 'reg_lambda': 1.549043386082234}. Best is trial 12 with value: 0.0007927088324594244.\n",
      "[I 2025-10-23 15:53:41,371] Trial 44 finished with value: 0.0031191696611278263 and parameters: {'n_estimators': 111, 'max_depth': 12, 'learning_rate': 0.06522601041813295, 'subsample': 0.7343935949138014, 'colsample_bytree': 0.6254566857823309, 'gamma': 0.6542297686227287, 'reg_alpha': 1.0313052506665417, 'reg_lambda': 1.1496048586283178}. Best is trial 12 with value: 0.0007927088324594244.\n",
      "[I 2025-10-23 15:53:41,863] Trial 45 finished with value: 0.0019276753477029058 and parameters: {'n_estimators': 135, 'max_depth': 14, 'learning_rate': 0.03762238233468187, 'subsample': 0.8875713328882455, 'colsample_bytree': 0.7299831646357479, 'gamma': 0.2025652908312076, 'reg_alpha': 0.7946787265191164, 'reg_lambda': 0.3462212672629581}. Best is trial 12 with value: 0.0007927088324594244.\n",
      "[I 2025-10-23 15:53:42,302] Trial 46 finished with value: 0.0017344738557812595 and parameters: {'n_estimators': 279, 'max_depth': 13, 'learning_rate': 0.08724030179992048, 'subsample': 0.6386378032697526, 'colsample_bytree': 0.666853728377059, 'gamma': 0.1043937450262038, 'reg_alpha': 0.9338082818678944, 'reg_lambda': 0.6892772890766281}. Best is trial 12 with value: 0.0007927088324594244.\n",
      "[I 2025-10-23 15:53:42,539] Trial 47 finished with value: 0.0013992143842751178 and parameters: {'n_estimators': 115, 'max_depth': 15, 'learning_rate': 0.13556739757053654, 'subsample': 0.9256229138659723, 'colsample_bytree': 0.6970694875597564, 'gamma': 0.048978223185303316, 'reg_alpha': 0.6641052300796123, 'reg_lambda': 1.7465361549190117}. Best is trial 12 with value: 0.0007927088324594244.\n",
      "[I 2025-10-23 15:53:43,015] Trial 48 finished with value: 0.0012421611624728506 and parameters: {'n_estimators': 176, 'max_depth': 12, 'learning_rate': 0.05090174351066704, 'subsample': 0.9474445060648078, 'colsample_bytree': 0.6005723680558868, 'gamma': 0.03132189047699209, 'reg_alpha': 0.30123886414671247, 'reg_lambda': 0.8663239918055082}. Best is trial 12 with value: 0.0007927088324594244.\n",
      "[I 2025-10-23 15:53:43,303] Trial 49 finished with value: 0.002288078845196744 and parameters: {'n_estimators': 154, 'max_depth': 11, 'learning_rate': 0.030324086464288417, 'subsample': 0.8632273269549736, 'colsample_bytree': 0.6502377865351436, 'gamma': 0.31402780447380196, 'reg_alpha': 1.4739843776812884, 'reg_lambda': 1.0702810708998383}. Best is trial 12 with value: 0.0007927088324594244.\n",
      "\n",
      "   🏆 Best XGBoost Parameters:\n",
      "      n_estimators: 103\n",
      "      max_depth: 14\n",
      "      learning_rate: 0.04171963395390847\n",
      "      subsample: 0.9618045899107114\n",
      "      colsample_bytree: 0.6285869849907426\n",
      "      gamma: 0.007845040109763772\n",
      "      reg_alpha: 0.08063099973488728\n",
      "      reg_lambda: 0.5465545231110513\n",
      "   📉 Best MSE: 0.000793\n"
     ]
    }
   ],
   "source": [
    "xgb_study = optuna.create_study(direction=\"minimize\", study_name=\"XGB_Optimization\")\n",
    "xgb_study.optimize(xgb_objective, n_trials=OPTUNA_TRIALS, show_progress_bar=True)\n",
    "\n",
    "print(f\"\\n   🏆 Best XGBoost Parameters:\")\n",
    "for key, value in xgb_study.best_params.items():\n",
    "    print(f\"      {key}: {value}\")\n",
    "print(f\"   📉 Best MSE: {xgb_study.best_value:.6f}\")"
   ]
  },
  {
   "cell_type": "code",
   "execution_count": 25,
   "id": "3b61652a",
   "metadata": {},
   "outputs": [],
   "source": [
    "best_xgb = XGBRegressor(**xgb_study.best_params, random_state=RANDOM_STATE, tree_method=\"hist\")\n",
    "best_xgb.fit(X_train, y_train, eval_set=[(X_test, y_test)], verbose=False)\n",
    "xgb_preds = best_xgb.predict(X_test)\n",
    "xgb_metrics = calculate_metrics(y_test, xgb_preds)"
   ]
  },
  {
   "cell_type": "code",
   "execution_count": 26,
   "id": "c15259a5",
   "metadata": {},
   "outputs": [],
   "source": [
    "xgb_importances = pd.Series(\n",
    "    best_xgb.feature_importances_, \n",
    "    index=X_train.columns\n",
    ").sort_values(ascending=False)"
   ]
  },
  {
   "cell_type": "code",
   "execution_count": 27,
   "id": "07ee52f5",
   "metadata": {},
   "outputs": [
    {
     "name": "stderr",
     "output_type": "stream",
     "text": [
      "2025/10/23 15:57:49 WARNING mlflow.models.model: `artifact_path` is deprecated. Please use `name` instead.\n",
      "2025/10/23 15:58:07 WARNING mlflow.models.model: Model logged without a signature and input example. Please set `input_example` parameter when logging the model to auto infer the model signature.\n"
     ]
    },
    {
     "name": "stdout",
     "output_type": "stream",
     "text": [
      "   ✅ Logged XGBoost_Optuna - RMSE: 0.0282, R²: 0.8776\n",
      "🏃 View run XGBoost_Optuna at: http://172.210.183.133:8000/#/experiments/1/runs/c055a48ca20b43d694a8411f55fd5b3f\n",
      "🧪 View experiment at: http://172.210.183.133:8000/#/experiments/1\n"
     ]
    }
   ],
   "source": [
    "# Log to MLflow\n",
    "log_model_to_mlflow(best_xgb, \"XGBoost_Optuna\", xgb_study.best_params, xgb_metrics, xgb_importances[:25])"
   ]
  },
  {
   "cell_type": "code",
   "execution_count": 28,
   "id": "5e87e708",
   "metadata": {},
   "outputs": [],
   "source": [
    "# Plot top 25 features\n",
    "xgb_plot_path = plot_feature_importance(\n",
    "    xgb_importances[:25], \n",
    "    \"XGBoost - Top 25 Feature Importances\",\n",
    "    \"xgb_feature_importance.png\"\n",
    ")"
   ]
  },
  {
   "cell_type": "code",
   "execution_count": 29,
   "id": "2ed8507d",
   "metadata": {},
   "outputs": [
    {
     "name": "stdout",
     "output_type": "stream",
     "text": [
      "🏃 View run XGBoost_Optuna at: http://172.210.183.133:8000/#/experiments/1/runs/2be6909a65c648b6b403095096e35af5\n",
      "🧪 View experiment at: http://172.210.183.133:8000/#/experiments/1\n",
      "\n",
      "   📊 XGBoost Metrics:\n",
      "      RMSE: 0.0282\n",
      "      MAE: 0.0156\n",
      "      R²: 0.8776\n",
      "      MAPE: 7.22%\n"
     ]
    }
   ],
   "source": [
    "with mlflow.start_run(run_name=\"XGBoost_Optuna\"):\n",
    "    mlflow.log_artifact(xgb_plot_path)\n",
    "\n",
    "print(f\"\\n   📊 XGBoost Metrics:\")\n",
    "print(f\"      RMSE: {xgb_metrics['rmse']:.4f}\")\n",
    "print(f\"      MAE: {xgb_metrics['mae']:.4f}\")\n",
    "print(f\"      R²: {xgb_metrics['r2']:.4f}\")\n",
    "print(f\"      MAPE: {xgb_metrics['mape']:.2f}%\")"
   ]
  },
  {
   "cell_type": "code",
   "execution_count": 30,
   "id": "98e7d14e",
   "metadata": {},
   "outputs": [
    {
     "name": "stdout",
     "output_type": "stream",
     "text": [
      "\n",
      "============================================================\n",
      "📊 TOP 25 FEATURES BY MODEL\n",
      "============================================================\n",
      "\n",
      "                         Feature  RF_Importance  XGB_Importance  Avg_Importance\n",
      "             scaled_price_lag_1h       0.407682        0.148908        0.278295\n",
      "            scaled_renewable_pct       0.125191        0.209014        0.167102\n",
      "            scaled_price_lag_24h       0.181102        0.119475        0.150288\n",
      "                        hour_sin       0.065083        0.059176        0.062130\n",
      "                            hour       0.031492        0.073562        0.052527\n",
      "                        hour_cos       0.019684        0.049611        0.034648\n",
      "            scaled_carbon_lag_1h       0.003285        0.052488        0.027886\n",
      "  scaled_carbon_intensity_actual       0.035362        0.018089        0.026725\n",
      "         scaled_carbon_per_price       0.040411        0.012139        0.026275\n",
      "         scaled_uk_gen_biomass_%       0.022664        0.015893        0.019278\n",
      "  scaled_log_solar_radiation_Wm2       0.003867        0.021492        0.012679\n",
      "                  scaled_log_no2       0.002934        0.016806        0.009870\n",
      "               scaled_fossil_pct       0.006354        0.011546        0.008950\n",
      "             scaled_wind_lag_24h       0.001498        0.014187        0.007843\n",
      "            scaled_uk_gen_wind_%       0.003806        0.011308        0.007557\n",
      "scaled_carbon_intensity_forecast       0.006846        0.008103        0.007475\n",
      "             scaled_uk_gen_gas_%       0.005358        0.008914        0.007136\n",
      "       scaled_log_uk_gen_solar_%       0.002482        0.011297        0.006890\n",
      "  scaled_carbon_rolling_24h_mean       0.001428        0.010122        0.005775\n",
      "              scaled_wind_lag_1h       0.003740        0.007054        0.005397\n",
      "         scaled_uk_gen_imports_%       0.003197        0.006963        0.005080\n",
      "   scaled_price_rolling_24h_mean       0.002588        0.007396        0.004992\n",
      "           scaled_wind_speed_mps       0.001609        0.007820        0.004714\n",
      "   scaled_carbon_rolling_24h_std       0.001510        0.006581        0.004046\n",
      "    scaled_price_rolling_24h_std       0.001706        0.005015        0.003361\n"
     ]
    }
   ],
   "source": [
    "# ========== COMPARISON TABLE ==========\n",
    "print(\"\\n\" + \"=\"*60)\n",
    "print(\"📊 TOP 25 FEATURES BY MODEL\")\n",
    "print(\"=\"*60)\n",
    "\n",
    "comparison_df = pd.DataFrame({\n",
    "    \"Feature\": rf_importances[:25].index,\n",
    "    \"RF_Importance\": rf_importances[:25].values,\n",
    "    \"XGB_Importance\": xgb_importances[rf_importances[:25].index].values,\n",
    "    \"Avg_Importance\": (rf_importances[:25].values + xgb_importances[rf_importances[:25].index].values) / 2\n",
    "}).sort_values(\"Avg_Importance\", ascending=False)\n",
    "\n",
    "print(\"\\n\" + comparison_df.to_string(index=False))"
   ]
  },
  {
   "cell_type": "code",
   "execution_count": 31,
   "id": "d6549dc7",
   "metadata": {},
   "outputs": [
    {
     "name": "stdout",
     "output_type": "stream",
     "text": [
      "\n",
      "💾 Saved comparison table to: artifacts/feature_importance_comparison.csv\n"
     ]
    }
   ],
   "source": [
    "# Save comparison table\n",
    "comparison_path = \"artifacts/feature_importance_comparison.csv\"\n",
    "comparison_df.to_csv(comparison_path, index=False)\n",
    "print(f\"\\n💾 Saved comparison table to: {comparison_path}\")"
   ]
  },
  {
   "cell_type": "code",
   "execution_count": 32,
   "id": "37a69279",
   "metadata": {},
   "outputs": [
    {
     "name": "stdout",
     "output_type": "stream",
     "text": [
      "\n",
      "6️⃣ Creating combined feature importance plot...\n"
     ]
    }
   ],
   "source": [
    "print(\"\\n6️⃣ Creating combined feature importance plot...\")\n",
    "\n",
    "fig, axes = plt.subplots(1, 2, figsize=(20, 10))\n",
    "\n",
    "# RF plot\n",
    "sns.barplot(ax=axes[0], x=rf_importances[:25].values, y=rf_importances[:25].index, palette=\"viridis\")\n",
    "axes[0].set_title(\"Random Forest - Top 25 Features\", fontsize=16, fontweight='bold')\n",
    "axes[0].set_xlabel(\"Importance Score\", fontsize=12)\n",
    "axes[0].set_ylabel(\"Feature\", fontsize=12)\n",
    "\n",
    "# XGBoost plot\n",
    "sns.barplot(ax=axes[1], x=xgb_importances[:25].values, y=xgb_importances[:25].index, palette=\"plasma\")\n",
    "axes[1].set_title(\"XGBoost - Top 25 Features\", fontsize=16, fontweight='bold')\n",
    "axes[1].set_xlabel(\"Importance Score\", fontsize=12)\n",
    "axes[1].set_ylabel(\"\")\n",
    "\n",
    "plt.tight_layout()\n",
    "combined_plot_path = \"plots/combined_feature_importance.png\"\n",
    "plt.savefig(combined_plot_path, dpi=300, bbox_inches='tight')\n",
    "plt.close()"
   ]
  },
  {
   "cell_type": "code",
   "execution_count": 33,
   "id": "cf854dd9",
   "metadata": {},
   "outputs": [
    {
     "name": "stdout",
     "output_type": "stream",
     "text": [
      "📈 MODEL PERFORMANCE COMPARISON\n",
      "\n",
      "        Model     RMSE      MAE       R²  MAPE (%)\n",
      "Random Forest 0.023066 0.014723 0.917841  7.029968\n",
      "      XGBoost 0.028155 0.015617 0.877587  7.221771\n",
      "\n",
      "🏆 Best Model: Random Forest\n"
     ]
    }
   ],
   "source": [
    "# ========== MODEL COMPARISON ==========\n",
    "print(\"📈 MODEL PERFORMANCE COMPARISON\")\n",
    "\n",
    "comparison_metrics = pd.DataFrame({\n",
    "    \"Model\": [\"Random Forest\", \"XGBoost\"],\n",
    "    \"RMSE\": [rf_metrics['rmse'], xgb_metrics['rmse']],\n",
    "    \"MAE\": [rf_metrics['mae'], xgb_metrics['mae']],\n",
    "    \"R²\": [rf_metrics['r2'], xgb_metrics['r2']],\n",
    "    \"MAPE (%)\": [rf_metrics['mape'], xgb_metrics['mape']]\n",
    "})\n",
    "\n",
    "print(\"\\n\" + comparison_metrics.to_string(index=False))\n",
    "\n",
    "# Determine best model\n",
    "best_model_name = \"Random Forest\" if rf_metrics['rmse'] < xgb_metrics['rmse'] else \"XGBoost\"\n",
    "print(f\"\\n🏆 Best Model: {best_model_name}\")"
   ]
  },
  {
   "cell_type": "code",
   "execution_count": 34,
   "id": "895b14c2",
   "metadata": {},
   "outputs": [
    {
     "name": "stdout",
     "output_type": "stream",
     "text": [
      "\\Saving results...\n",
      "   ✅ Saved results to: artifacts/feature_selection_results.json\n"
     ]
    }
   ],
   "source": [
    "# ========== SAVE RESULTS ==========\n",
    "print(\"\\Saving results...\")\n",
    "\n",
    "results = {\n",
    "    \"experiment\": EXPERIMENT_NAME,\n",
    "    \"mlflow_uri\": MLFLOW_TRACKING_URI,\n",
    "    \"data_path\": DATA_PATH,\n",
    "    \"target\": TARGET,\n",
    "    \"n_features\": len(features),\n",
    "    \"n_samples\": len(X),\n",
    "    \"train_size\": len(X_train),\n",
    "    \"test_size\": len(X_test),\n",
    "    \"optuna_trials\": OPTUNA_TRIALS,\n",
    "    \"best_model\": best_model_name,\n",
    "    \"rf_metrics\": rf_metrics,\n",
    "    \"xgb_metrics\": xgb_metrics,\n",
    "    \"rf_best_params\": rf_study.best_params,\n",
    "    \"xgb_best_params\": xgb_study.best_params\n",
    "}\n",
    "\n",
    "import json\n",
    "results_path = \"artifacts/feature_selection_results.json\"\n",
    "with open(results_path, 'w') as f:\n",
    "    # Convert numpy types to native Python types for JSON serialization\n",
    "    json_results = {k: (float(v) if isinstance(v, (np.floating, np.integer)) else v) \n",
    "                    for k, v in results.items() if k not in ['rf_metrics', 'xgb_metrics', 'rf_best_params', 'xgb_best_params']}\n",
    "    json_results['rf_metrics'] = {k: float(v) for k, v in rf_metrics.items()}\n",
    "    json_results['xgb_metrics'] = {k: float(v) for k, v in xgb_metrics.items()}\n",
    "    json_results['rf_best_params'] = rf_study.best_params\n",
    "    json_results['xgb_best_params'] = xgb_study.best_params\n",
    "    json.dump(json_results, f, indent=2)\n",
    "\n",
    "print(f\"   ✅ Saved results to: {results_path}\")\n"
   ]
  }
 ],
 "metadata": {
  "kernelspec": {
   "display_name": "base",
   "language": "python",
   "name": "python3"
  },
  "language_info": {
   "codemirror_mode": {
    "name": "ipython",
    "version": 3
   },
   "file_extension": ".py",
   "mimetype": "text/x-python",
   "name": "python",
   "nbconvert_exporter": "python",
   "pygments_lexer": "ipython3",
   "version": "3.13.5"
  }
 },
 "nbformat": 4,
 "nbformat_minor": 5
}
